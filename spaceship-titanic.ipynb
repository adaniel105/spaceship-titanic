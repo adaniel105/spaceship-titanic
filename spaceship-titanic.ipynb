{
 "cells": [
  {
   "cell_type": "code",
   "execution_count": 1,
   "id": "c3d2181f",
   "metadata": {
    "_cell_guid": "b1076dfc-b9ad-4769-8c92-a6c4dae69d19",
    "_uuid": "8f2839f25d086af736a60e9eeb907d3b93b6e0e5",
    "execution": {
     "iopub.execute_input": "2024-01-10T01:07:04.238286Z",
     "iopub.status.busy": "2024-01-10T01:07:04.237336Z",
     "iopub.status.idle": "2024-01-10T01:07:07.009396Z",
     "shell.execute_reply": "2024-01-10T01:07:07.007667Z"
    },
    "papermill": {
     "duration": 2.787414,
     "end_time": "2024-01-10T01:07:07.012938",
     "exception": false,
     "start_time": "2024-01-10T01:07:04.225524",
     "status": "completed"
    },
    "tags": []
   },
   "outputs": [],
   "source": [
    "import numpy as np\n",
    "import pandas as pd\n",
    "from sklearn.model_selection import train_test_split\n",
    "import matplotlib.pyplot as plt\n",
    "%matplotlib inline\n",
    "import seaborn as sns"
   ]
  },
  {
   "cell_type": "code",
   "execution_count": 2,
   "id": "5bd4bf82",
   "metadata": {
    "execution": {
     "iopub.execute_input": "2024-01-10T01:07:07.035871Z",
     "iopub.status.busy": "2024-01-10T01:07:07.035146Z",
     "iopub.status.idle": "2024-01-10T01:07:07.149105Z",
     "shell.execute_reply": "2024-01-10T01:07:07.147985Z"
    },
    "papermill": {
     "duration": 0.128609,
     "end_time": "2024-01-10T01:07:07.152171",
     "exception": false,
     "start_time": "2024-01-10T01:07:07.023562",
     "status": "completed"
    },
    "tags": []
   },
   "outputs": [],
   "source": [
    "train = pd.read_csv(\"../input/spaceship-titanic/train.csv\")\n",
    "test = pd.read_csv(\"../input/spaceship-titanic/test.csv\")"
   ]
  },
  {
   "cell_type": "code",
   "execution_count": 3,
   "id": "5be68e05",
   "metadata": {
    "execution": {
     "iopub.execute_input": "2024-01-10T01:07:07.175239Z",
     "iopub.status.busy": "2024-01-10T01:07:07.174536Z",
     "iopub.status.idle": "2024-01-10T01:07:07.214919Z",
     "shell.execute_reply": "2024-01-10T01:07:07.213174Z"
    },
    "papermill": {
     "duration": 0.055984,
     "end_time": "2024-01-10T01:07:07.217932",
     "exception": false,
     "start_time": "2024-01-10T01:07:07.161948",
     "status": "completed"
    },
    "tags": []
   },
   "outputs": [
    {
     "data": {
      "text/html": [
       "<div>\n",
       "<style scoped>\n",
       "    .dataframe tbody tr th:only-of-type {\n",
       "        vertical-align: middle;\n",
       "    }\n",
       "\n",
       "    .dataframe tbody tr th {\n",
       "        vertical-align: top;\n",
       "    }\n",
       "\n",
       "    .dataframe thead th {\n",
       "        text-align: right;\n",
       "    }\n",
       "</style>\n",
       "<table border=\"1\" class=\"dataframe\">\n",
       "  <thead>\n",
       "    <tr style=\"text-align: right;\">\n",
       "      <th></th>\n",
       "      <th>PassengerId</th>\n",
       "      <th>HomePlanet</th>\n",
       "      <th>CryoSleep</th>\n",
       "      <th>Cabin</th>\n",
       "      <th>Destination</th>\n",
       "      <th>Age</th>\n",
       "      <th>VIP</th>\n",
       "      <th>RoomService</th>\n",
       "      <th>FoodCourt</th>\n",
       "      <th>ShoppingMall</th>\n",
       "      <th>Spa</th>\n",
       "      <th>VRDeck</th>\n",
       "      <th>Name</th>\n",
       "      <th>Transported</th>\n",
       "    </tr>\n",
       "  </thead>\n",
       "  <tbody>\n",
       "    <tr>\n",
       "      <th>0</th>\n",
       "      <td>0001_01</td>\n",
       "      <td>Europa</td>\n",
       "      <td>False</td>\n",
       "      <td>B/0/P</td>\n",
       "      <td>TRAPPIST-1e</td>\n",
       "      <td>39.0</td>\n",
       "      <td>False</td>\n",
       "      <td>0.0</td>\n",
       "      <td>0.0</td>\n",
       "      <td>0.0</td>\n",
       "      <td>0.0</td>\n",
       "      <td>0.0</td>\n",
       "      <td>Maham Ofracculy</td>\n",
       "      <td>False</td>\n",
       "    </tr>\n",
       "    <tr>\n",
       "      <th>1</th>\n",
       "      <td>0002_01</td>\n",
       "      <td>Earth</td>\n",
       "      <td>False</td>\n",
       "      <td>F/0/S</td>\n",
       "      <td>TRAPPIST-1e</td>\n",
       "      <td>24.0</td>\n",
       "      <td>False</td>\n",
       "      <td>109.0</td>\n",
       "      <td>9.0</td>\n",
       "      <td>25.0</td>\n",
       "      <td>549.0</td>\n",
       "      <td>44.0</td>\n",
       "      <td>Juanna Vines</td>\n",
       "      <td>True</td>\n",
       "    </tr>\n",
       "    <tr>\n",
       "      <th>2</th>\n",
       "      <td>0003_01</td>\n",
       "      <td>Europa</td>\n",
       "      <td>False</td>\n",
       "      <td>A/0/S</td>\n",
       "      <td>TRAPPIST-1e</td>\n",
       "      <td>58.0</td>\n",
       "      <td>True</td>\n",
       "      <td>43.0</td>\n",
       "      <td>3576.0</td>\n",
       "      <td>0.0</td>\n",
       "      <td>6715.0</td>\n",
       "      <td>49.0</td>\n",
       "      <td>Altark Susent</td>\n",
       "      <td>False</td>\n",
       "    </tr>\n",
       "    <tr>\n",
       "      <th>3</th>\n",
       "      <td>0003_02</td>\n",
       "      <td>Europa</td>\n",
       "      <td>False</td>\n",
       "      <td>A/0/S</td>\n",
       "      <td>TRAPPIST-1e</td>\n",
       "      <td>33.0</td>\n",
       "      <td>False</td>\n",
       "      <td>0.0</td>\n",
       "      <td>1283.0</td>\n",
       "      <td>371.0</td>\n",
       "      <td>3329.0</td>\n",
       "      <td>193.0</td>\n",
       "      <td>Solam Susent</td>\n",
       "      <td>False</td>\n",
       "    </tr>\n",
       "    <tr>\n",
       "      <th>4</th>\n",
       "      <td>0004_01</td>\n",
       "      <td>Earth</td>\n",
       "      <td>False</td>\n",
       "      <td>F/1/S</td>\n",
       "      <td>TRAPPIST-1e</td>\n",
       "      <td>16.0</td>\n",
       "      <td>False</td>\n",
       "      <td>303.0</td>\n",
       "      <td>70.0</td>\n",
       "      <td>151.0</td>\n",
       "      <td>565.0</td>\n",
       "      <td>2.0</td>\n",
       "      <td>Willy Santantines</td>\n",
       "      <td>True</td>\n",
       "    </tr>\n",
       "  </tbody>\n",
       "</table>\n",
       "</div>"
      ],
      "text/plain": [
       "  PassengerId HomePlanet CryoSleep  Cabin  Destination   Age    VIP  \\\n",
       "0     0001_01     Europa     False  B/0/P  TRAPPIST-1e  39.0  False   \n",
       "1     0002_01      Earth     False  F/0/S  TRAPPIST-1e  24.0  False   \n",
       "2     0003_01     Europa     False  A/0/S  TRAPPIST-1e  58.0   True   \n",
       "3     0003_02     Europa     False  A/0/S  TRAPPIST-1e  33.0  False   \n",
       "4     0004_01      Earth     False  F/1/S  TRAPPIST-1e  16.0  False   \n",
       "\n",
       "   RoomService  FoodCourt  ShoppingMall     Spa  VRDeck               Name  \\\n",
       "0          0.0        0.0           0.0     0.0     0.0    Maham Ofracculy   \n",
       "1        109.0        9.0          25.0   549.0    44.0       Juanna Vines   \n",
       "2         43.0     3576.0           0.0  6715.0    49.0      Altark Susent   \n",
       "3          0.0     1283.0         371.0  3329.0   193.0       Solam Susent   \n",
       "4        303.0       70.0         151.0   565.0     2.0  Willy Santantines   \n",
       "\n",
       "   Transported  \n",
       "0        False  \n",
       "1         True  \n",
       "2        False  \n",
       "3        False  \n",
       "4         True  "
      ]
     },
     "execution_count": 3,
     "metadata": {},
     "output_type": "execute_result"
    }
   ],
   "source": [
    "#train.info()\n",
    "#train.columns\n",
    "train.head()"
   ]
  },
  {
   "cell_type": "code",
   "execution_count": 4,
   "id": "e2b099ea",
   "metadata": {
    "execution": {
     "iopub.execute_input": "2024-01-10T01:07:07.240520Z",
     "iopub.status.busy": "2024-01-10T01:07:07.239815Z",
     "iopub.status.idle": "2024-01-10T01:07:07.261799Z",
     "shell.execute_reply": "2024-01-10T01:07:07.260230Z"
    },
    "papermill": {
     "duration": 0.036992,
     "end_time": "2024-01-10T01:07:07.264914",
     "exception": false,
     "start_time": "2024-01-10T01:07:07.227922",
     "status": "completed"
    },
    "tags": []
   },
   "outputs": [
    {
     "data": {
      "text/plain": [
       "PassengerId       0\n",
       "HomePlanet      201\n",
       "CryoSleep       217\n",
       "Cabin           199\n",
       "Destination     182\n",
       "Age             179\n",
       "VIP             203\n",
       "RoomService     181\n",
       "FoodCourt       183\n",
       "ShoppingMall    208\n",
       "Spa             183\n",
       "VRDeck          188\n",
       "Name            200\n",
       "Transported       0\n",
       "dtype: int64"
      ]
     },
     "execution_count": 4,
     "metadata": {},
     "output_type": "execute_result"
    }
   ],
   "source": [
    "train.isna().sum()"
   ]
  },
  {
   "cell_type": "markdown",
   "id": "3602bbaa",
   "metadata": {
    "papermill": {
     "duration": 0.010281,
     "end_time": "2024-01-10T01:07:07.285386",
     "exception": false,
     "start_time": "2024-01-10T01:07:07.275105",
     "status": "completed"
    },
    "tags": []
   },
   "source": [
    "Take care of missing values first by filling in with mean,median or mode (seems like you can't do anything before you impute basically). or just fill with NONE (cats only tho)"
   ]
  },
  {
   "cell_type": "code",
   "execution_count": 5,
   "id": "1e5886d5",
   "metadata": {
    "execution": {
     "iopub.execute_input": "2024-01-10T01:07:07.308339Z",
     "iopub.status.busy": "2024-01-10T01:07:07.307748Z",
     "iopub.status.idle": "2024-01-10T01:07:07.327591Z",
     "shell.execute_reply": "2024-01-10T01:07:07.325327Z"
    },
    "papermill": {
     "duration": 0.036084,
     "end_time": "2024-01-10T01:07:07.331773",
     "exception": false,
     "start_time": "2024-01-10T01:07:07.295689",
     "status": "completed"
    },
    "tags": []
   },
   "outputs": [],
   "source": [
    "y = train[\"Transported\"]\n",
    "train.drop(\"Transported\", axis=1, inplace=True)"
   ]
  },
  {
   "cell_type": "code",
   "execution_count": 6,
   "id": "2a443150",
   "metadata": {
    "execution": {
     "iopub.execute_input": "2024-01-10T01:07:07.356484Z",
     "iopub.status.busy": "2024-01-10T01:07:07.355750Z",
     "iopub.status.idle": "2024-01-10T01:07:07.363237Z",
     "shell.execute_reply": "2024-01-10T01:07:07.361481Z"
    },
    "papermill": {
     "duration": 0.023423,
     "end_time": "2024-01-10T01:07:07.366284",
     "exception": false,
     "start_time": "2024-01-10T01:07:07.342861",
     "status": "completed"
    },
    "tags": []
   },
   "outputs": [],
   "source": [
    "num = ['Age', 'RoomService', 'FoodCourt', 'ShoppingMall', 'Spa','VRDeck', 'Decks'] #you can also use list comprehensions for these btw\n",
    "cat = ['HomePlanet', 'CryoSleep', 'Cabin', 'Destination', 'VIP', 'Surname']"
   ]
  },
  {
   "cell_type": "code",
   "execution_count": 7,
   "id": "4b2860cc",
   "metadata": {
    "execution": {
     "iopub.execute_input": "2024-01-10T01:07:07.390813Z",
     "iopub.status.busy": "2024-01-10T01:07:07.390360Z",
     "iopub.status.idle": "2024-01-10T01:07:07.398351Z",
     "shell.execute_reply": "2024-01-10T01:07:07.396924Z"
    },
    "papermill": {
     "duration": 0.024271,
     "end_time": "2024-01-10T01:07:07.401404",
     "exception": false,
     "start_time": "2024-01-10T01:07:07.377133",
     "status": "completed"
    },
    "tags": []
   },
   "outputs": [
    {
     "data": {
      "text/plain": [
       "Index(['PassengerId', 'HomePlanet', 'CryoSleep', 'Cabin', 'Destination', 'Age',\n",
       "       'VIP', 'RoomService', 'FoodCourt', 'ShoppingMall', 'Spa', 'VRDeck',\n",
       "       'Name'],\n",
       "      dtype='object')"
      ]
     },
     "execution_count": 7,
     "metadata": {},
     "output_type": "execute_result"
    }
   ],
   "source": [
    "train.columns"
   ]
  },
  {
   "cell_type": "markdown",
   "id": "9cc55050",
   "metadata": {
    "papermill": {
     "duration": 0.010721,
     "end_time": "2024-01-10T01:07:07.424019",
     "exception": false,
     "start_time": "2024-01-10T01:07:07.413298",
     "status": "completed"
    },
    "tags": []
   },
   "source": [
    "Handle NaN values"
   ]
  },
  {
   "cell_type": "code",
   "execution_count": 8,
   "id": "fb21eb6f",
   "metadata": {
    "execution": {
     "iopub.execute_input": "2024-01-10T01:07:07.448033Z",
     "iopub.status.busy": "2024-01-10T01:07:07.447321Z",
     "iopub.status.idle": "2024-01-10T01:07:07.528864Z",
     "shell.execute_reply": "2024-01-10T01:07:07.527558Z"
    },
    "papermill": {
     "duration": 0.096952,
     "end_time": "2024-01-10T01:07:07.531800",
     "exception": false,
     "start_time": "2024-01-10T01:07:07.434848",
     "status": "completed"
    },
    "tags": []
   },
   "outputs": [],
   "source": [
    "for col in train.columns: #columns are practically the same anyway so we iterate over them\n",
    "    train[col].fillna(train[col].mode()[0], inplace=True)\n",
    "    test[col].fillna(test[col].mode()[0], inplace=True)"
   ]
  },
  {
   "cell_type": "markdown",
   "id": "68a1ec1f",
   "metadata": {
    "papermill": {
     "duration": 0.009577,
     "end_time": "2024-01-10T01:07:07.551263",
     "exception": false,
     "start_time": "2024-01-10T01:07:07.541686",
     "status": "completed"
    },
    "tags": []
   },
   "source": [
    "Now we check for missing values once more"
   ]
  },
  {
   "cell_type": "code",
   "execution_count": 9,
   "id": "8abea80a",
   "metadata": {
    "execution": {
     "iopub.execute_input": "2024-01-10T01:07:07.574966Z",
     "iopub.status.busy": "2024-01-10T01:07:07.574415Z",
     "iopub.status.idle": "2024-01-10T01:07:07.591093Z",
     "shell.execute_reply": "2024-01-10T01:07:07.589604Z"
    },
    "papermill": {
     "duration": 0.032161,
     "end_time": "2024-01-10T01:07:07.593820",
     "exception": false,
     "start_time": "2024-01-10T01:07:07.561659",
     "status": "completed"
    },
    "tags": []
   },
   "outputs": [
    {
     "data": {
      "text/plain": [
       "PassengerId     0\n",
       "HomePlanet      0\n",
       "CryoSleep       0\n",
       "Cabin           0\n",
       "Destination     0\n",
       "Age             0\n",
       "VIP             0\n",
       "RoomService     0\n",
       "FoodCourt       0\n",
       "ShoppingMall    0\n",
       "Spa             0\n",
       "VRDeck          0\n",
       "Name            0\n",
       "dtype: int64"
      ]
     },
     "execution_count": 9,
     "metadata": {},
     "output_type": "execute_result"
    }
   ],
   "source": [
    "train.isna().sum()"
   ]
  },
  {
   "cell_type": "markdown",
   "id": "51a0f26c",
   "metadata": {
    "papermill": {
     "duration": 0.010643,
     "end_time": "2024-01-10T01:07:07.615629",
     "exception": false,
     "start_time": "2024-01-10T01:07:07.604986",
     "status": "completed"
    },
    "tags": []
   },
   "source": [
    "do some feature engineering"
   ]
  },
  {
   "cell_type": "code",
   "execution_count": 10,
   "id": "97fe9841",
   "metadata": {
    "execution": {
     "iopub.execute_input": "2024-01-10T01:07:07.638715Z",
     "iopub.status.busy": "2024-01-10T01:07:07.638294Z",
     "iopub.status.idle": "2024-01-10T01:07:07.667225Z",
     "shell.execute_reply": "2024-01-10T01:07:07.665810Z"
    },
    "papermill": {
     "duration": 0.044092,
     "end_time": "2024-01-10T01:07:07.670304",
     "exception": false,
     "start_time": "2024-01-10T01:07:07.626212",
     "status": "completed"
    },
    "tags": []
   },
   "outputs": [],
   "source": [
    "#train[\"Surname\"] = train.Name.apply(lambda x: x.split()[-1])\n",
    "#train[\"Decks\"] = train.PassengerId.apply(lambda x: x[:4]).astype('int64')\n",
    "train[\"cabin_letters\"] = train.Cabin.apply(lambda x: x.split(\"/\")[0])\n",
    "train[\"HomePlanet\"] = train[\"HomePlanet\"].map({'Earth' : 1, 'Europa' : 2, 'Mars' : 3})\n",
    "train.drop([\"Name\", \"Cabin\"], axis=1, inplace=True)\n",
    "\n",
    "\n",
    "#test[\"Surname\"] = test.Name.apply(lambda x: x.split()[-1])\n",
    "#test[\"Decks\"] = test.PassengerId.apply(lambda x: x[:4]).astype('int64')\n",
    "test[\"cabin_letters\"] = test.Cabin.apply(lambda x: x.split(\"/\")[0])\n",
    "test[\"HomePlanet\"]= test[\"HomePlanet\"].map({'Earth' : 1, 'Europa' : 2, 'Mars' : 3})\n",
    "test.drop([\"Name\",\"Cabin\"], axis=1, inplace=True)"
   ]
  },
  {
   "cell_type": "markdown",
   "id": "04b9258f",
   "metadata": {
    "papermill": {
     "duration": 0.009698,
     "end_time": "2024-01-10T01:07:07.690950",
     "exception": false,
     "start_time": "2024-01-10T01:07:07.681252",
     "status": "completed"
    },
    "tags": []
   },
   "source": [
    "Seperate data into numberic and categroical columns for data understanding"
   ]
  },
  {
   "cell_type": "code",
   "execution_count": null,
   "id": "4780c871",
   "metadata": {
    "papermill": {
     "duration": 0.011002,
     "end_time": "2024-01-10T01:07:07.712968",
     "exception": false,
     "start_time": "2024-01-10T01:07:07.701966",
     "status": "completed"
    },
    "tags": []
   },
   "outputs": [],
   "source": []
  },
  {
   "cell_type": "code",
   "execution_count": 11,
   "id": "6a2a06fb",
   "metadata": {
    "execution": {
     "iopub.execute_input": "2024-01-10T01:07:07.737876Z",
     "iopub.status.busy": "2024-01-10T01:07:07.737429Z",
     "iopub.status.idle": "2024-01-10T01:07:07.742544Z",
     "shell.execute_reply": "2024-01-10T01:07:07.741277Z"
    },
    "papermill": {
     "duration": 0.02048,
     "end_time": "2024-01-10T01:07:07.745576",
     "exception": false,
     "start_time": "2024-01-10T01:07:07.725096",
     "status": "completed"
    },
    "tags": []
   },
   "outputs": [],
   "source": [
    "#num = []\n",
    "#cat = []"
   ]
  },
  {
   "cell_type": "markdown",
   "id": "71196950",
   "metadata": {
    "papermill": {
     "duration": 0.01042,
     "end_time": "2024-01-10T01:07:07.766390",
     "exception": false,
     "start_time": "2024-01-10T01:07:07.755970",
     "status": "completed"
    },
    "tags": []
   },
   "source": [
    "Normalization and scaling"
   ]
  },
  {
   "cell_type": "code",
   "execution_count": 12,
   "id": "ff1de910",
   "metadata": {
    "execution": {
     "iopub.execute_input": "2024-01-10T01:07:07.789243Z",
     "iopub.status.busy": "2024-01-10T01:07:07.788464Z",
     "iopub.status.idle": "2024-01-10T01:07:07.813053Z",
     "shell.execute_reply": "2024-01-10T01:07:07.811627Z"
    },
    "papermill": {
     "duration": 0.039527,
     "end_time": "2024-01-10T01:07:07.816333",
     "exception": false,
     "start_time": "2024-01-10T01:07:07.776806",
     "status": "completed"
    },
    "tags": []
   },
   "outputs": [],
   "source": [
    "features = ['HomePlanet', 'CryoSleep', 'Destination', 'Age', 'VIP',\n",
    "       'RoomService', 'FoodCourt', 'ShoppingMall', 'Spa', 'VRDeck', 'cabin_letters']\n",
    "train_encoded = pd.get_dummies(train[features])\n",
    "test_encoded = pd.get_dummies(test[features])"
   ]
  },
  {
   "cell_type": "code",
   "execution_count": 13,
   "id": "106f099f",
   "metadata": {
    "execution": {
     "iopub.execute_input": "2024-01-10T01:07:07.839327Z",
     "iopub.status.busy": "2024-01-10T01:07:07.838932Z",
     "iopub.status.idle": "2024-01-10T01:07:07.870269Z",
     "shell.execute_reply": "2024-01-10T01:07:07.868914Z"
    },
    "papermill": {
     "duration": 0.04613,
     "end_time": "2024-01-10T01:07:07.873236",
     "exception": false,
     "start_time": "2024-01-10T01:07:07.827106",
     "status": "completed"
    },
    "tags": []
   },
   "outputs": [
    {
     "data": {
      "text/html": [
       "<div>\n",
       "<style scoped>\n",
       "    .dataframe tbody tr th:only-of-type {\n",
       "        vertical-align: middle;\n",
       "    }\n",
       "\n",
       "    .dataframe tbody tr th {\n",
       "        vertical-align: top;\n",
       "    }\n",
       "\n",
       "    .dataframe thead th {\n",
       "        text-align: right;\n",
       "    }\n",
       "</style>\n",
       "<table border=\"1\" class=\"dataframe\">\n",
       "  <thead>\n",
       "    <tr style=\"text-align: right;\">\n",
       "      <th></th>\n",
       "      <th>HomePlanet</th>\n",
       "      <th>CryoSleep</th>\n",
       "      <th>Age</th>\n",
       "      <th>VIP</th>\n",
       "      <th>RoomService</th>\n",
       "      <th>FoodCourt</th>\n",
       "      <th>ShoppingMall</th>\n",
       "      <th>Spa</th>\n",
       "      <th>VRDeck</th>\n",
       "      <th>Destination_55 Cancri e</th>\n",
       "      <th>Destination_PSO J318.5-22</th>\n",
       "      <th>Destination_TRAPPIST-1e</th>\n",
       "      <th>cabin_letters_A</th>\n",
       "      <th>cabin_letters_B</th>\n",
       "      <th>cabin_letters_C</th>\n",
       "      <th>cabin_letters_D</th>\n",
       "      <th>cabin_letters_E</th>\n",
       "      <th>cabin_letters_F</th>\n",
       "      <th>cabin_letters_G</th>\n",
       "      <th>cabin_letters_T</th>\n",
       "    </tr>\n",
       "  </thead>\n",
       "  <tbody>\n",
       "    <tr>\n",
       "      <th>0</th>\n",
       "      <td>2</td>\n",
       "      <td>False</td>\n",
       "      <td>39.0</td>\n",
       "      <td>False</td>\n",
       "      <td>0.0</td>\n",
       "      <td>0.0</td>\n",
       "      <td>0.0</td>\n",
       "      <td>0.0</td>\n",
       "      <td>0.0</td>\n",
       "      <td>False</td>\n",
       "      <td>False</td>\n",
       "      <td>True</td>\n",
       "      <td>False</td>\n",
       "      <td>True</td>\n",
       "      <td>False</td>\n",
       "      <td>False</td>\n",
       "      <td>False</td>\n",
       "      <td>False</td>\n",
       "      <td>False</td>\n",
       "      <td>False</td>\n",
       "    </tr>\n",
       "    <tr>\n",
       "      <th>1</th>\n",
       "      <td>1</td>\n",
       "      <td>False</td>\n",
       "      <td>24.0</td>\n",
       "      <td>False</td>\n",
       "      <td>109.0</td>\n",
       "      <td>9.0</td>\n",
       "      <td>25.0</td>\n",
       "      <td>549.0</td>\n",
       "      <td>44.0</td>\n",
       "      <td>False</td>\n",
       "      <td>False</td>\n",
       "      <td>True</td>\n",
       "      <td>False</td>\n",
       "      <td>False</td>\n",
       "      <td>False</td>\n",
       "      <td>False</td>\n",
       "      <td>False</td>\n",
       "      <td>True</td>\n",
       "      <td>False</td>\n",
       "      <td>False</td>\n",
       "    </tr>\n",
       "    <tr>\n",
       "      <th>2</th>\n",
       "      <td>2</td>\n",
       "      <td>False</td>\n",
       "      <td>58.0</td>\n",
       "      <td>True</td>\n",
       "      <td>43.0</td>\n",
       "      <td>3576.0</td>\n",
       "      <td>0.0</td>\n",
       "      <td>6715.0</td>\n",
       "      <td>49.0</td>\n",
       "      <td>False</td>\n",
       "      <td>False</td>\n",
       "      <td>True</td>\n",
       "      <td>True</td>\n",
       "      <td>False</td>\n",
       "      <td>False</td>\n",
       "      <td>False</td>\n",
       "      <td>False</td>\n",
       "      <td>False</td>\n",
       "      <td>False</td>\n",
       "      <td>False</td>\n",
       "    </tr>\n",
       "    <tr>\n",
       "      <th>3</th>\n",
       "      <td>2</td>\n",
       "      <td>False</td>\n",
       "      <td>33.0</td>\n",
       "      <td>False</td>\n",
       "      <td>0.0</td>\n",
       "      <td>1283.0</td>\n",
       "      <td>371.0</td>\n",
       "      <td>3329.0</td>\n",
       "      <td>193.0</td>\n",
       "      <td>False</td>\n",
       "      <td>False</td>\n",
       "      <td>True</td>\n",
       "      <td>True</td>\n",
       "      <td>False</td>\n",
       "      <td>False</td>\n",
       "      <td>False</td>\n",
       "      <td>False</td>\n",
       "      <td>False</td>\n",
       "      <td>False</td>\n",
       "      <td>False</td>\n",
       "    </tr>\n",
       "    <tr>\n",
       "      <th>4</th>\n",
       "      <td>1</td>\n",
       "      <td>False</td>\n",
       "      <td>16.0</td>\n",
       "      <td>False</td>\n",
       "      <td>303.0</td>\n",
       "      <td>70.0</td>\n",
       "      <td>151.0</td>\n",
       "      <td>565.0</td>\n",
       "      <td>2.0</td>\n",
       "      <td>False</td>\n",
       "      <td>False</td>\n",
       "      <td>True</td>\n",
       "      <td>False</td>\n",
       "      <td>False</td>\n",
       "      <td>False</td>\n",
       "      <td>False</td>\n",
       "      <td>False</td>\n",
       "      <td>True</td>\n",
       "      <td>False</td>\n",
       "      <td>False</td>\n",
       "    </tr>\n",
       "  </tbody>\n",
       "</table>\n",
       "</div>"
      ],
      "text/plain": [
       "   HomePlanet  CryoSleep   Age    VIP  RoomService  FoodCourt  ShoppingMall  \\\n",
       "0           2      False  39.0  False          0.0        0.0           0.0   \n",
       "1           1      False  24.0  False        109.0        9.0          25.0   \n",
       "2           2      False  58.0   True         43.0     3576.0           0.0   \n",
       "3           2      False  33.0  False          0.0     1283.0         371.0   \n",
       "4           1      False  16.0  False        303.0       70.0         151.0   \n",
       "\n",
       "      Spa  VRDeck  Destination_55 Cancri e  Destination_PSO J318.5-22  \\\n",
       "0     0.0     0.0                    False                      False   \n",
       "1   549.0    44.0                    False                      False   \n",
       "2  6715.0    49.0                    False                      False   \n",
       "3  3329.0   193.0                    False                      False   \n",
       "4   565.0     2.0                    False                      False   \n",
       "\n",
       "   Destination_TRAPPIST-1e  cabin_letters_A  cabin_letters_B  cabin_letters_C  \\\n",
       "0                     True            False             True            False   \n",
       "1                     True            False            False            False   \n",
       "2                     True             True            False            False   \n",
       "3                     True             True            False            False   \n",
       "4                     True            False            False            False   \n",
       "\n",
       "   cabin_letters_D  cabin_letters_E  cabin_letters_F  cabin_letters_G  \\\n",
       "0            False            False            False            False   \n",
       "1            False            False             True            False   \n",
       "2            False            False            False            False   \n",
       "3            False            False            False            False   \n",
       "4            False            False             True            False   \n",
       "\n",
       "   cabin_letters_T  \n",
       "0            False  \n",
       "1            False  \n",
       "2            False  \n",
       "3            False  \n",
       "4            False  "
      ]
     },
     "execution_count": 13,
     "metadata": {},
     "output_type": "execute_result"
    }
   ],
   "source": [
    "train_encoded.head()"
   ]
  },
  {
   "cell_type": "code",
   "execution_count": 14,
   "id": "15908ffc",
   "metadata": {
    "execution": {
     "iopub.execute_input": "2024-01-10T01:07:07.896527Z",
     "iopub.status.busy": "2024-01-10T01:07:07.896083Z",
     "iopub.status.idle": "2024-01-10T01:07:07.927817Z",
     "shell.execute_reply": "2024-01-10T01:07:07.926836Z"
    },
    "papermill": {
     "duration": 0.046756,
     "end_time": "2024-01-10T01:07:07.930462",
     "exception": false,
     "start_time": "2024-01-10T01:07:07.883706",
     "status": "completed"
    },
    "tags": []
   },
   "outputs": [],
   "source": [
    "from sklearn.preprocessing import StandardScaler\n",
    "\n",
    "ss = StandardScaler()\n",
    "\n",
    "x_scaled = ss.fit_transform(train_encoded)\n",
    "test_scaled = ss.transform(test_encoded)"
   ]
  },
  {
   "cell_type": "code",
   "execution_count": 15,
   "id": "3e78ca93",
   "metadata": {
    "execution": {
     "iopub.execute_input": "2024-01-10T01:07:07.954094Z",
     "iopub.status.busy": "2024-01-10T01:07:07.953027Z",
     "iopub.status.idle": "2024-01-10T01:07:07.959190Z",
     "shell.execute_reply": "2024-01-10T01:07:07.957963Z"
    },
    "papermill": {
     "duration": 0.020908,
     "end_time": "2024-01-10T01:07:07.962141",
     "exception": false,
     "start_time": "2024-01-10T01:07:07.941233",
     "status": "completed"
    },
    "tags": []
   },
   "outputs": [],
   "source": [
    "#X_train, X_test, y_train, y_test = train_test_split(x_scaled, y, test_size=0.2, random_state=4)\n",
    "#first test with simple algos and metrics tailored to algo type before cross-validation (at least typically)"
   ]
  },
  {
   "cell_type": "markdown",
   "id": "a4b537c7",
   "metadata": {
    "papermill": {
     "duration": 0.010762,
     "end_time": "2024-01-10T01:07:07.983887",
     "exception": false,
     "start_time": "2024-01-10T01:07:07.973125",
     "status": "completed"
    },
    "tags": []
   },
   "source": [
    "We then simply set params to best params"
   ]
  },
  {
   "cell_type": "code",
   "execution_count": 16,
   "id": "20cf3243",
   "metadata": {
    "execution": {
     "iopub.execute_input": "2024-01-10T01:07:08.008349Z",
     "iopub.status.busy": "2024-01-10T01:07:08.007927Z",
     "iopub.status.idle": "2024-01-10T01:07:08.387855Z",
     "shell.execute_reply": "2024-01-10T01:07:08.386196Z"
    },
    "papermill": {
     "duration": 0.399679,
     "end_time": "2024-01-10T01:07:08.395030",
     "exception": false,
     "start_time": "2024-01-10T01:07:07.995351",
     "status": "completed"
    },
    "tags": []
   },
   "outputs": [
    {
     "name": "stdout",
     "output_type": "stream",
     "text": [
      "[0.77918344 0.79125934 0.78435883 0.78423475 0.79919448]\n",
      "0.7876461678239217\n"
     ]
    }
   ],
   "source": [
    "from sklearn.linear_model import LogisticRegression\n",
    "from sklearn.model_selection import cross_val_score\n",
    "lr = LogisticRegression(random_state = 10, max_iter = 1000)\n",
    "cv = cross_val_score(lr, x_scaled, y, cv=5)\n",
    "print(cv)\n",
    "print(cv.mean())"
   ]
  },
  {
   "cell_type": "code",
   "execution_count": 17,
   "id": "4660530f",
   "metadata": {
    "execution": {
     "iopub.execute_input": "2024-01-10T01:07:08.498641Z",
     "iopub.status.busy": "2024-01-10T01:07:08.497874Z",
     "iopub.status.idle": "2024-01-10T01:07:09.962892Z",
     "shell.execute_reply": "2024-01-10T01:07:09.961505Z"
    },
    "papermill": {
     "duration": 1.516928,
     "end_time": "2024-01-10T01:07:09.966018",
     "exception": false,
     "start_time": "2024-01-10T01:07:08.449090",
     "status": "completed"
    },
    "tags": []
   },
   "outputs": [
    {
     "name": "stdout",
     "output_type": "stream",
     "text": [
      "[0.79125934 0.78493387 0.79355952 0.80437284 0.8118527 ]\n",
      "0.7971956556120305\n"
     ]
    }
   ],
   "source": [
    "from sklearn.ensemble import RandomForestClassifier\n",
    "rf = RandomForestClassifier(random_state = 1, bootstrap = True, max_depth=10, min_samples_leaf=4, min_samples_split =2, n_estimators = 30)\n",
    "cv = cross_val_score(rf, x_scaled, y, cv=5)\n",
    "print(cv)\n",
    "print(cv.mean())"
   ]
  },
  {
   "cell_type": "code",
   "execution_count": 18,
   "id": "7a78659b",
   "metadata": {
    "execution": {
     "iopub.execute_input": "2024-01-10T01:07:09.992062Z",
     "iopub.status.busy": "2024-01-10T01:07:09.991600Z",
     "iopub.status.idle": "2024-01-10T01:07:11.112554Z",
     "shell.execute_reply": "2024-01-10T01:07:11.111622Z"
    },
    "papermill": {
     "duration": 1.137811,
     "end_time": "2024-01-10T01:07:11.115467",
     "exception": false,
     "start_time": "2024-01-10T01:07:09.977656",
     "status": "completed"
    },
    "tags": []
   },
   "outputs": [
    {
     "name": "stdout",
     "output_type": "stream",
     "text": [
      "[0.77458309 0.78780909 0.78838413 0.80667434 0.79919448]\n",
      "0.7913290245905383\n"
     ]
    }
   ],
   "source": [
    "from xgboost import XGBClassifier\n",
    "xgb = XGBClassifier()\n",
    "cv = cross_val_score(xgb, x_scaled, y , cv=5)\n",
    "print(cv)\n",
    "print(cv.mean())"
   ]
  },
  {
   "cell_type": "code",
   "execution_count": 19,
   "id": "c988d6ed",
   "metadata": {
    "execution": {
     "iopub.execute_input": "2024-01-10T01:07:11.140379Z",
     "iopub.status.busy": "2024-01-10T01:07:11.139943Z",
     "iopub.status.idle": "2024-01-10T01:07:11.358218Z",
     "shell.execute_reply": "2024-01-10T01:07:11.356485Z"
    },
    "papermill": {
     "duration": 0.233859,
     "end_time": "2024-01-10T01:07:11.361525",
     "exception": false,
     "start_time": "2024-01-10T01:07:11.127666",
     "status": "completed"
    },
    "tags": []
   },
   "outputs": [
    {
     "name": "stdout",
     "output_type": "stream",
     "text": [
      "[0.74755607 0.75043128 0.74123059 0.74626007 0.73647871]\n",
      "0.7443913443105471\n"
     ]
    }
   ],
   "source": [
    "from sklearn import tree\n",
    "dt = tree.DecisionTreeClassifier()\n",
    "cv = cross_val_score(dt, x_scaled, y, cv=5)\n",
    "print(cv)\n",
    "print(cv.mean())"
   ]
  },
  {
   "cell_type": "code",
   "execution_count": 20,
   "id": "89d3abda",
   "metadata": {
    "execution": {
     "iopub.execute_input": "2024-01-10T01:07:11.386585Z",
     "iopub.status.busy": "2024-01-10T01:07:11.386130Z",
     "iopub.status.idle": "2024-01-10T01:07:11.685416Z",
     "shell.execute_reply": "2024-01-10T01:07:11.683706Z"
    },
    "papermill": {
     "duration": 0.315579,
     "end_time": "2024-01-10T01:07:11.688922",
     "exception": false,
     "start_time": "2024-01-10T01:07:11.373343",
     "status": "completed"
    },
    "tags": []
   },
   "outputs": [],
   "source": [
    "rf.fit(train_encoded, y)\n",
    "predictions = rf.predict(test_encoded)"
   ]
  },
  {
   "cell_type": "code",
   "execution_count": 21,
   "id": "6abd39dd",
   "metadata": {
    "execution": {
     "iopub.execute_input": "2024-01-10T01:07:11.715370Z",
     "iopub.status.busy": "2024-01-10T01:07:11.713980Z",
     "iopub.status.idle": "2024-01-10T01:07:11.748389Z",
     "shell.execute_reply": "2024-01-10T01:07:11.746790Z"
    },
    "papermill": {
     "duration": 0.052094,
     "end_time": "2024-01-10T01:07:11.752307",
     "exception": false,
     "start_time": "2024-01-10T01:07:11.700213",
     "status": "completed"
    },
    "tags": []
   },
   "outputs": [],
   "source": [
    "submission = pd.read_csv(\"../input/spaceship-titanic/sample_submission.csv\")\n",
    "submission[\"Transported\"] = predictions\n",
    "submission.to_csv('submission4.csv', index= False)\n"
   ]
  }
 ],
 "metadata": {
  "kaggle": {
   "accelerator": "none",
   "dataSources": [
    {
     "databundleVersionId": 3220602,
     "sourceId": 34377,
     "sourceType": "competition"
    }
   ],
   "dockerImageVersionId": 30626,
   "isGpuEnabled": false,
   "isInternetEnabled": true,
   "language": "python",
   "sourceType": "notebook"
  },
  "kernelspec": {
   "display_name": "Python 3",
   "language": "python",
   "name": "python3"
  },
  "language_info": {
   "codemirror_mode": {
    "name": "ipython",
    "version": 3
   },
   "file_extension": ".py",
   "mimetype": "text/x-python",
   "name": "python",
   "nbconvert_exporter": "python",
   "pygments_lexer": "ipython3",
   "version": "3.10.12"
  },
  "papermill": {
   "default_parameters": {},
   "duration": 12.381256,
   "end_time": "2024-01-10T01:07:12.590068",
   "environment_variables": {},
   "exception": null,
   "input_path": "__notebook__.ipynb",
   "output_path": "__notebook__.ipynb",
   "parameters": {},
   "start_time": "2024-01-10T01:07:00.208812",
   "version": "2.4.0"
  }
 },
 "nbformat": 4,
 "nbformat_minor": 5
}
