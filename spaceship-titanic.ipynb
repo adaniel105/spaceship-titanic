{
 "cells": [
  {
   "cell_type": "code",
   "execution_count": 1,
   "id": "1f002e41",
   "metadata": {
    "_cell_guid": "b1076dfc-b9ad-4769-8c92-a6c4dae69d19",
    "_uuid": "8f2839f25d086af736a60e9eeb907d3b93b6e0e5",
    "execution": {
     "iopub.execute_input": "2024-01-09T13:58:43.869478Z",
     "iopub.status.busy": "2024-01-09T13:58:43.868972Z",
     "iopub.status.idle": "2024-01-09T13:58:46.260198Z",
     "shell.execute_reply": "2024-01-09T13:58:46.259112Z"
    },
    "papermill": {
     "duration": 2.405329,
     "end_time": "2024-01-09T13:58:46.263281",
     "exception": false,
     "start_time": "2024-01-09T13:58:43.857952",
     "status": "completed"
    },
    "tags": []
   },
   "outputs": [],
   "source": [
    "import numpy as np\n",
    "import pandas as pd\n",
    "from sklearn.model_selection import train_test_split\n",
    "import matplotlib.pyplot as plt\n",
    "%matplotlib inline\n",
    "import seaborn as sns"
   ]
  },
  {
   "cell_type": "code",
   "execution_count": 2,
   "id": "93724cd2",
   "metadata": {
    "execution": {
     "iopub.execute_input": "2024-01-09T13:58:46.284060Z",
     "iopub.status.busy": "2024-01-09T13:58:46.282892Z",
     "iopub.status.idle": "2024-01-09T13:58:46.383222Z",
     "shell.execute_reply": "2024-01-09T13:58:46.381693Z"
    },
    "papermill": {
     "duration": 0.114208,
     "end_time": "2024-01-09T13:58:46.386841",
     "exception": false,
     "start_time": "2024-01-09T13:58:46.272633",
     "status": "completed"
    },
    "tags": []
   },
   "outputs": [],
   "source": [
    "train = pd.read_csv(\"../input/spaceship-titanic/train.csv\")\n",
    "test = pd.read_csv(\"../input/spaceship-titanic/test.csv\")"
   ]
  },
  {
   "cell_type": "code",
   "execution_count": 3,
   "id": "00f2dd8d",
   "metadata": {
    "execution": {
     "iopub.execute_input": "2024-01-09T13:58:46.406361Z",
     "iopub.status.busy": "2024-01-09T13:58:46.405876Z",
     "iopub.status.idle": "2024-01-09T13:58:46.441590Z",
     "shell.execute_reply": "2024-01-09T13:58:46.440304Z"
    },
    "papermill": {
     "duration": 0.048679,
     "end_time": "2024-01-09T13:58:46.444436",
     "exception": false,
     "start_time": "2024-01-09T13:58:46.395757",
     "status": "completed"
    },
    "tags": []
   },
   "outputs": [
    {
     "data": {
      "text/html": [
       "<div>\n",
       "<style scoped>\n",
       "    .dataframe tbody tr th:only-of-type {\n",
       "        vertical-align: middle;\n",
       "    }\n",
       "\n",
       "    .dataframe tbody tr th {\n",
       "        vertical-align: top;\n",
       "    }\n",
       "\n",
       "    .dataframe thead th {\n",
       "        text-align: right;\n",
       "    }\n",
       "</style>\n",
       "<table border=\"1\" class=\"dataframe\">\n",
       "  <thead>\n",
       "    <tr style=\"text-align: right;\">\n",
       "      <th></th>\n",
       "      <th>PassengerId</th>\n",
       "      <th>HomePlanet</th>\n",
       "      <th>CryoSleep</th>\n",
       "      <th>Cabin</th>\n",
       "      <th>Destination</th>\n",
       "      <th>Age</th>\n",
       "      <th>VIP</th>\n",
       "      <th>RoomService</th>\n",
       "      <th>FoodCourt</th>\n",
       "      <th>ShoppingMall</th>\n",
       "      <th>Spa</th>\n",
       "      <th>VRDeck</th>\n",
       "      <th>Name</th>\n",
       "      <th>Transported</th>\n",
       "    </tr>\n",
       "  </thead>\n",
       "  <tbody>\n",
       "    <tr>\n",
       "      <th>0</th>\n",
       "      <td>0001_01</td>\n",
       "      <td>Europa</td>\n",
       "      <td>False</td>\n",
       "      <td>B/0/P</td>\n",
       "      <td>TRAPPIST-1e</td>\n",
       "      <td>39.0</td>\n",
       "      <td>False</td>\n",
       "      <td>0.0</td>\n",
       "      <td>0.0</td>\n",
       "      <td>0.0</td>\n",
       "      <td>0.0</td>\n",
       "      <td>0.0</td>\n",
       "      <td>Maham Ofracculy</td>\n",
       "      <td>False</td>\n",
       "    </tr>\n",
       "    <tr>\n",
       "      <th>1</th>\n",
       "      <td>0002_01</td>\n",
       "      <td>Earth</td>\n",
       "      <td>False</td>\n",
       "      <td>F/0/S</td>\n",
       "      <td>TRAPPIST-1e</td>\n",
       "      <td>24.0</td>\n",
       "      <td>False</td>\n",
       "      <td>109.0</td>\n",
       "      <td>9.0</td>\n",
       "      <td>25.0</td>\n",
       "      <td>549.0</td>\n",
       "      <td>44.0</td>\n",
       "      <td>Juanna Vines</td>\n",
       "      <td>True</td>\n",
       "    </tr>\n",
       "    <tr>\n",
       "      <th>2</th>\n",
       "      <td>0003_01</td>\n",
       "      <td>Europa</td>\n",
       "      <td>False</td>\n",
       "      <td>A/0/S</td>\n",
       "      <td>TRAPPIST-1e</td>\n",
       "      <td>58.0</td>\n",
       "      <td>True</td>\n",
       "      <td>43.0</td>\n",
       "      <td>3576.0</td>\n",
       "      <td>0.0</td>\n",
       "      <td>6715.0</td>\n",
       "      <td>49.0</td>\n",
       "      <td>Altark Susent</td>\n",
       "      <td>False</td>\n",
       "    </tr>\n",
       "    <tr>\n",
       "      <th>3</th>\n",
       "      <td>0003_02</td>\n",
       "      <td>Europa</td>\n",
       "      <td>False</td>\n",
       "      <td>A/0/S</td>\n",
       "      <td>TRAPPIST-1e</td>\n",
       "      <td>33.0</td>\n",
       "      <td>False</td>\n",
       "      <td>0.0</td>\n",
       "      <td>1283.0</td>\n",
       "      <td>371.0</td>\n",
       "      <td>3329.0</td>\n",
       "      <td>193.0</td>\n",
       "      <td>Solam Susent</td>\n",
       "      <td>False</td>\n",
       "    </tr>\n",
       "    <tr>\n",
       "      <th>4</th>\n",
       "      <td>0004_01</td>\n",
       "      <td>Earth</td>\n",
       "      <td>False</td>\n",
       "      <td>F/1/S</td>\n",
       "      <td>TRAPPIST-1e</td>\n",
       "      <td>16.0</td>\n",
       "      <td>False</td>\n",
       "      <td>303.0</td>\n",
       "      <td>70.0</td>\n",
       "      <td>151.0</td>\n",
       "      <td>565.0</td>\n",
       "      <td>2.0</td>\n",
       "      <td>Willy Santantines</td>\n",
       "      <td>True</td>\n",
       "    </tr>\n",
       "  </tbody>\n",
       "</table>\n",
       "</div>"
      ],
      "text/plain": [
       "  PassengerId HomePlanet CryoSleep  Cabin  Destination   Age    VIP  \\\n",
       "0     0001_01     Europa     False  B/0/P  TRAPPIST-1e  39.0  False   \n",
       "1     0002_01      Earth     False  F/0/S  TRAPPIST-1e  24.0  False   \n",
       "2     0003_01     Europa     False  A/0/S  TRAPPIST-1e  58.0   True   \n",
       "3     0003_02     Europa     False  A/0/S  TRAPPIST-1e  33.0  False   \n",
       "4     0004_01      Earth     False  F/1/S  TRAPPIST-1e  16.0  False   \n",
       "\n",
       "   RoomService  FoodCourt  ShoppingMall     Spa  VRDeck               Name  \\\n",
       "0          0.0        0.0           0.0     0.0     0.0    Maham Ofracculy   \n",
       "1        109.0        9.0          25.0   549.0    44.0       Juanna Vines   \n",
       "2         43.0     3576.0           0.0  6715.0    49.0      Altark Susent   \n",
       "3          0.0     1283.0         371.0  3329.0   193.0       Solam Susent   \n",
       "4        303.0       70.0         151.0   565.0     2.0  Willy Santantines   \n",
       "\n",
       "   Transported  \n",
       "0        False  \n",
       "1         True  \n",
       "2        False  \n",
       "3        False  \n",
       "4         True  "
      ]
     },
     "execution_count": 3,
     "metadata": {},
     "output_type": "execute_result"
    }
   ],
   "source": [
    "#train.info()\n",
    "#train.columns\n",
    "train.head()"
   ]
  },
  {
   "cell_type": "code",
   "execution_count": 4,
   "id": "d0cc1171",
   "metadata": {
    "execution": {
     "iopub.execute_input": "2024-01-09T13:58:46.464695Z",
     "iopub.status.busy": "2024-01-09T13:58:46.464183Z",
     "iopub.status.idle": "2024-01-09T13:58:46.481826Z",
     "shell.execute_reply": "2024-01-09T13:58:46.480901Z"
    },
    "papermill": {
     "duration": 0.030574,
     "end_time": "2024-01-09T13:58:46.484107",
     "exception": false,
     "start_time": "2024-01-09T13:58:46.453533",
     "status": "completed"
    },
    "tags": []
   },
   "outputs": [
    {
     "data": {
      "text/plain": [
       "PassengerId       0\n",
       "HomePlanet      201\n",
       "CryoSleep       217\n",
       "Cabin           199\n",
       "Destination     182\n",
       "Age             179\n",
       "VIP             203\n",
       "RoomService     181\n",
       "FoodCourt       183\n",
       "ShoppingMall    208\n",
       "Spa             183\n",
       "VRDeck          188\n",
       "Name            200\n",
       "Transported       0\n",
       "dtype: int64"
      ]
     },
     "execution_count": 4,
     "metadata": {},
     "output_type": "execute_result"
    }
   ],
   "source": [
    "train.isna().sum()"
   ]
  },
  {
   "cell_type": "markdown",
   "id": "9d322a4c",
   "metadata": {
    "papermill": {
     "duration": 0.00878,
     "end_time": "2024-01-09T13:58:46.502040",
     "exception": false,
     "start_time": "2024-01-09T13:58:46.493260",
     "status": "completed"
    },
    "tags": []
   },
   "source": [
    "Take care of missing values first by filling in with mean,median or mode (seems like you can't do anything before you impute basically). or just fill with NONE (cats only tho)"
   ]
  },
  {
   "cell_type": "code",
   "execution_count": 5,
   "id": "b5ca0280",
   "metadata": {
    "execution": {
     "iopub.execute_input": "2024-01-09T13:58:46.522799Z",
     "iopub.status.busy": "2024-01-09T13:58:46.521856Z",
     "iopub.status.idle": "2024-01-09T13:58:46.535217Z",
     "shell.execute_reply": "2024-01-09T13:58:46.533928Z"
    },
    "papermill": {
     "duration": 0.027295,
     "end_time": "2024-01-09T13:58:46.538362",
     "exception": false,
     "start_time": "2024-01-09T13:58:46.511067",
     "status": "completed"
    },
    "tags": []
   },
   "outputs": [],
   "source": [
    "y = train[\"Transported\"]\n",
    "train.drop(\"Transported\", axis=1, inplace=True)"
   ]
  },
  {
   "cell_type": "code",
   "execution_count": 6,
   "id": "c7ce76fa",
   "metadata": {
    "execution": {
     "iopub.execute_input": "2024-01-09T13:58:46.559574Z",
     "iopub.status.busy": "2024-01-09T13:58:46.558208Z",
     "iopub.status.idle": "2024-01-09T13:58:46.564623Z",
     "shell.execute_reply": "2024-01-09T13:58:46.563626Z"
    },
    "papermill": {
     "duration": 0.019627,
     "end_time": "2024-01-09T13:58:46.567251",
     "exception": false,
     "start_time": "2024-01-09T13:58:46.547624",
     "status": "completed"
    },
    "tags": []
   },
   "outputs": [],
   "source": [
    "num = ['Age', 'RoomService', 'FoodCourt', 'ShoppingMall', 'Spa','VRDeck', 'Decks'] #you can also use list comprehensions for these btw\n",
    "cat = ['HomePlanet', 'CryoSleep', 'Cabin', 'Destination', 'VIP', 'Surname']"
   ]
  },
  {
   "cell_type": "code",
   "execution_count": 7,
   "id": "f49e0242",
   "metadata": {
    "execution": {
     "iopub.execute_input": "2024-01-09T13:58:46.587898Z",
     "iopub.status.busy": "2024-01-09T13:58:46.587452Z",
     "iopub.status.idle": "2024-01-09T13:58:46.595584Z",
     "shell.execute_reply": "2024-01-09T13:58:46.594456Z"
    },
    "papermill": {
     "duration": 0.021628,
     "end_time": "2024-01-09T13:58:46.598179",
     "exception": false,
     "start_time": "2024-01-09T13:58:46.576551",
     "status": "completed"
    },
    "tags": []
   },
   "outputs": [
    {
     "data": {
      "text/plain": [
       "Index(['PassengerId', 'HomePlanet', 'CryoSleep', 'Cabin', 'Destination', 'Age',\n",
       "       'VIP', 'RoomService', 'FoodCourt', 'ShoppingMall', 'Spa', 'VRDeck',\n",
       "       'Name'],\n",
       "      dtype='object')"
      ]
     },
     "execution_count": 7,
     "metadata": {},
     "output_type": "execute_result"
    }
   ],
   "source": [
    "train.columns"
   ]
  },
  {
   "cell_type": "markdown",
   "id": "6fc8032d",
   "metadata": {
    "papermill": {
     "duration": 0.009156,
     "end_time": "2024-01-09T13:58:46.616912",
     "exception": false,
     "start_time": "2024-01-09T13:58:46.607756",
     "status": "completed"
    },
    "tags": []
   },
   "source": [
    "Handle NaN values"
   ]
  },
  {
   "cell_type": "code",
   "execution_count": 8,
   "id": "b21d6f41",
   "metadata": {
    "execution": {
     "iopub.execute_input": "2024-01-09T13:58:46.637877Z",
     "iopub.status.busy": "2024-01-09T13:58:46.637069Z",
     "iopub.status.idle": "2024-01-09T13:58:46.726023Z",
     "shell.execute_reply": "2024-01-09T13:58:46.724799Z"
    },
    "papermill": {
     "duration": 0.102971,
     "end_time": "2024-01-09T13:58:46.729171",
     "exception": false,
     "start_time": "2024-01-09T13:58:46.626200",
     "status": "completed"
    },
    "tags": []
   },
   "outputs": [],
   "source": [
    "for col in train.columns: #columns are practically the same anyway so we iterate over them\n",
    "    if col not in num:\n",
    "        train[col].fillna(\"NONE\", inplace=True)\n",
    "        test[col].fillna(\"NONE\", inplace=True)\n",
    "    train[col].fillna(train[col].mode()[0], inplace=True)\n",
    "    test[col].fillna(test[col].mode()[0], inplace=True)"
   ]
  },
  {
   "cell_type": "markdown",
   "id": "3452aa92",
   "metadata": {
    "papermill": {
     "duration": 0.008761,
     "end_time": "2024-01-09T13:58:46.747302",
     "exception": false,
     "start_time": "2024-01-09T13:58:46.738541",
     "status": "completed"
    },
    "tags": []
   },
   "source": [
    "Now we check for missing values once more"
   ]
  },
  {
   "cell_type": "code",
   "execution_count": 9,
   "id": "d5cbb2c6",
   "metadata": {
    "execution": {
     "iopub.execute_input": "2024-01-09T13:58:46.767883Z",
     "iopub.status.busy": "2024-01-09T13:58:46.767429Z",
     "iopub.status.idle": "2024-01-09T13:58:46.785626Z",
     "shell.execute_reply": "2024-01-09T13:58:46.784292Z"
    },
    "papermill": {
     "duration": 0.031807,
     "end_time": "2024-01-09T13:58:46.788444",
     "exception": false,
     "start_time": "2024-01-09T13:58:46.756637",
     "status": "completed"
    },
    "tags": []
   },
   "outputs": [
    {
     "data": {
      "text/plain": [
       "PassengerId     0\n",
       "HomePlanet      0\n",
       "CryoSleep       0\n",
       "Cabin           0\n",
       "Destination     0\n",
       "Age             0\n",
       "VIP             0\n",
       "RoomService     0\n",
       "FoodCourt       0\n",
       "ShoppingMall    0\n",
       "Spa             0\n",
       "VRDeck          0\n",
       "Name            0\n",
       "dtype: int64"
      ]
     },
     "execution_count": 9,
     "metadata": {},
     "output_type": "execute_result"
    }
   ],
   "source": [
    "train.isna().sum()"
   ]
  },
  {
   "cell_type": "markdown",
   "id": "3c20bc00",
   "metadata": {
    "papermill": {
     "duration": 0.009607,
     "end_time": "2024-01-09T13:58:46.807523",
     "exception": false,
     "start_time": "2024-01-09T13:58:46.797916",
     "status": "completed"
    },
    "tags": []
   },
   "source": [
    "do some feature engineering"
   ]
  },
  {
   "cell_type": "code",
   "execution_count": 10,
   "id": "803af451",
   "metadata": {
    "execution": {
     "iopub.execute_input": "2024-01-09T13:58:46.829234Z",
     "iopub.status.busy": "2024-01-09T13:58:46.828737Z",
     "iopub.status.idle": "2024-01-09T13:58:46.865335Z",
     "shell.execute_reply": "2024-01-09T13:58:46.864091Z"
    },
    "papermill": {
     "duration": 0.05052,
     "end_time": "2024-01-09T13:58:46.868182",
     "exception": false,
     "start_time": "2024-01-09T13:58:46.817662",
     "status": "completed"
    },
    "tags": []
   },
   "outputs": [],
   "source": [
    "#train[\"Surname\"] = train.Name.apply(lambda x: x.split()[-1])\n",
    "train[\"Decks\"] = train.PassengerId.apply(lambda x: x[:4]).astype('int64')\n",
    "train[\"cabin_letters\"] = train.Cabin.apply(lambda x: x.split(\"/\")[0])\n",
    "train.drop([\"Name\", \"Cabin\"], axis=1, inplace=True)\n",
    "\n",
    "#test[\"Surname\"] = test.Name.apply(lambda x: x.split()[-1])\n",
    "test[\"Decks\"] = test.PassengerId.apply(lambda x: x[:4]).astype('int64')\n",
    "test[\"cabin_letters\"] = test.Cabin.apply(lambda x: x.split(\"/\")[0])\n",
    "test.drop([\"Name\",\"Cabin\"], axis=1, inplace=True)"
   ]
  },
  {
   "cell_type": "markdown",
   "id": "2f5bfa10",
   "metadata": {
    "papermill": {
     "duration": 0.008964,
     "end_time": "2024-01-09T13:58:46.886639",
     "exception": false,
     "start_time": "2024-01-09T13:58:46.877675",
     "status": "completed"
    },
    "tags": []
   },
   "source": [
    "Seperate data into numberic and categroical columns for data understanding"
   ]
  },
  {
   "cell_type": "code",
   "execution_count": 11,
   "id": "e5dfa6af",
   "metadata": {
    "execution": {
     "iopub.execute_input": "2024-01-09T13:58:46.907499Z",
     "iopub.status.busy": "2024-01-09T13:58:46.907012Z",
     "iopub.status.idle": "2024-01-09T13:58:46.912444Z",
     "shell.execute_reply": "2024-01-09T13:58:46.911162Z"
    },
    "papermill": {
     "duration": 0.018946,
     "end_time": "2024-01-09T13:58:46.914985",
     "exception": false,
     "start_time": "2024-01-09T13:58:46.896039",
     "status": "completed"
    },
    "tags": []
   },
   "outputs": [],
   "source": [
    "#num = []\n",
    "#cat = []"
   ]
  },
  {
   "cell_type": "markdown",
   "id": "7b856d24",
   "metadata": {
    "papermill": {
     "duration": 0.009168,
     "end_time": "2024-01-09T13:58:46.933687",
     "exception": false,
     "start_time": "2024-01-09T13:58:46.924519",
     "status": "completed"
    },
    "tags": []
   },
   "source": [
    "Normalization and scaling"
   ]
  },
  {
   "cell_type": "code",
   "execution_count": 12,
   "id": "e6505d6b",
   "metadata": {
    "execution": {
     "iopub.execute_input": "2024-01-09T13:58:46.954446Z",
     "iopub.status.busy": "2024-01-09T13:58:46.953936Z",
     "iopub.status.idle": "2024-01-09T13:58:46.992654Z",
     "shell.execute_reply": "2024-01-09T13:58:46.991317Z"
    },
    "papermill": {
     "duration": 0.052699,
     "end_time": "2024-01-09T13:58:46.995845",
     "exception": false,
     "start_time": "2024-01-09T13:58:46.943146",
     "status": "completed"
    },
    "tags": []
   },
   "outputs": [],
   "source": [
    "features = ['HomePlanet', 'CryoSleep', 'Destination', 'Age', 'VIP',\n",
    "       'RoomService', 'FoodCourt', 'ShoppingMall', 'Spa', 'VRDeck',\n",
    "       'Decks', 'cabin_letters']\n",
    "x = pd.get_dummies(train[features])\n",
    "test_encoded = pd.get_dummies(test[features])"
   ]
  },
  {
   "cell_type": "code",
   "execution_count": 13,
   "id": "b1fa4103",
   "metadata": {
    "execution": {
     "iopub.execute_input": "2024-01-09T13:58:47.017519Z",
     "iopub.status.busy": "2024-01-09T13:58:47.016626Z",
     "iopub.status.idle": "2024-01-09T13:58:47.050148Z",
     "shell.execute_reply": "2024-01-09T13:58:47.048860Z"
    },
    "papermill": {
     "duration": 0.047564,
     "end_time": "2024-01-09T13:58:47.053082",
     "exception": false,
     "start_time": "2024-01-09T13:58:47.005518",
     "status": "completed"
    },
    "tags": []
   },
   "outputs": [
    {
     "data": {
      "text/html": [
       "<div>\n",
       "<style scoped>\n",
       "    .dataframe tbody tr th:only-of-type {\n",
       "        vertical-align: middle;\n",
       "    }\n",
       "\n",
       "    .dataframe tbody tr th {\n",
       "        vertical-align: top;\n",
       "    }\n",
       "\n",
       "    .dataframe thead th {\n",
       "        text-align: right;\n",
       "    }\n",
       "</style>\n",
       "<table border=\"1\" class=\"dataframe\">\n",
       "  <thead>\n",
       "    <tr style=\"text-align: right;\">\n",
       "      <th></th>\n",
       "      <th>Age</th>\n",
       "      <th>RoomService</th>\n",
       "      <th>FoodCourt</th>\n",
       "      <th>ShoppingMall</th>\n",
       "      <th>Spa</th>\n",
       "      <th>VRDeck</th>\n",
       "      <th>Decks</th>\n",
       "      <th>HomePlanet_Earth</th>\n",
       "      <th>HomePlanet_Europa</th>\n",
       "      <th>HomePlanet_Mars</th>\n",
       "      <th>...</th>\n",
       "      <th>VIP_NONE</th>\n",
       "      <th>cabin_letters_A</th>\n",
       "      <th>cabin_letters_B</th>\n",
       "      <th>cabin_letters_C</th>\n",
       "      <th>cabin_letters_D</th>\n",
       "      <th>cabin_letters_E</th>\n",
       "      <th>cabin_letters_F</th>\n",
       "      <th>cabin_letters_G</th>\n",
       "      <th>cabin_letters_NONE</th>\n",
       "      <th>cabin_letters_T</th>\n",
       "    </tr>\n",
       "  </thead>\n",
       "  <tbody>\n",
       "    <tr>\n",
       "      <th>0</th>\n",
       "      <td>39.0</td>\n",
       "      <td>0.0</td>\n",
       "      <td>0.0</td>\n",
       "      <td>0.0</td>\n",
       "      <td>0.0</td>\n",
       "      <td>0.0</td>\n",
       "      <td>1</td>\n",
       "      <td>False</td>\n",
       "      <td>True</td>\n",
       "      <td>False</td>\n",
       "      <td>...</td>\n",
       "      <td>False</td>\n",
       "      <td>False</td>\n",
       "      <td>True</td>\n",
       "      <td>False</td>\n",
       "      <td>False</td>\n",
       "      <td>False</td>\n",
       "      <td>False</td>\n",
       "      <td>False</td>\n",
       "      <td>False</td>\n",
       "      <td>False</td>\n",
       "    </tr>\n",
       "    <tr>\n",
       "      <th>1</th>\n",
       "      <td>24.0</td>\n",
       "      <td>109.0</td>\n",
       "      <td>9.0</td>\n",
       "      <td>25.0</td>\n",
       "      <td>549.0</td>\n",
       "      <td>44.0</td>\n",
       "      <td>2</td>\n",
       "      <td>True</td>\n",
       "      <td>False</td>\n",
       "      <td>False</td>\n",
       "      <td>...</td>\n",
       "      <td>False</td>\n",
       "      <td>False</td>\n",
       "      <td>False</td>\n",
       "      <td>False</td>\n",
       "      <td>False</td>\n",
       "      <td>False</td>\n",
       "      <td>True</td>\n",
       "      <td>False</td>\n",
       "      <td>False</td>\n",
       "      <td>False</td>\n",
       "    </tr>\n",
       "    <tr>\n",
       "      <th>2</th>\n",
       "      <td>58.0</td>\n",
       "      <td>43.0</td>\n",
       "      <td>3576.0</td>\n",
       "      <td>0.0</td>\n",
       "      <td>6715.0</td>\n",
       "      <td>49.0</td>\n",
       "      <td>3</td>\n",
       "      <td>False</td>\n",
       "      <td>True</td>\n",
       "      <td>False</td>\n",
       "      <td>...</td>\n",
       "      <td>False</td>\n",
       "      <td>True</td>\n",
       "      <td>False</td>\n",
       "      <td>False</td>\n",
       "      <td>False</td>\n",
       "      <td>False</td>\n",
       "      <td>False</td>\n",
       "      <td>False</td>\n",
       "      <td>False</td>\n",
       "      <td>False</td>\n",
       "    </tr>\n",
       "    <tr>\n",
       "      <th>3</th>\n",
       "      <td>33.0</td>\n",
       "      <td>0.0</td>\n",
       "      <td>1283.0</td>\n",
       "      <td>371.0</td>\n",
       "      <td>3329.0</td>\n",
       "      <td>193.0</td>\n",
       "      <td>3</td>\n",
       "      <td>False</td>\n",
       "      <td>True</td>\n",
       "      <td>False</td>\n",
       "      <td>...</td>\n",
       "      <td>False</td>\n",
       "      <td>True</td>\n",
       "      <td>False</td>\n",
       "      <td>False</td>\n",
       "      <td>False</td>\n",
       "      <td>False</td>\n",
       "      <td>False</td>\n",
       "      <td>False</td>\n",
       "      <td>False</td>\n",
       "      <td>False</td>\n",
       "    </tr>\n",
       "    <tr>\n",
       "      <th>4</th>\n",
       "      <td>16.0</td>\n",
       "      <td>303.0</td>\n",
       "      <td>70.0</td>\n",
       "      <td>151.0</td>\n",
       "      <td>565.0</td>\n",
       "      <td>2.0</td>\n",
       "      <td>4</td>\n",
       "      <td>True</td>\n",
       "      <td>False</td>\n",
       "      <td>False</td>\n",
       "      <td>...</td>\n",
       "      <td>False</td>\n",
       "      <td>False</td>\n",
       "      <td>False</td>\n",
       "      <td>False</td>\n",
       "      <td>False</td>\n",
       "      <td>False</td>\n",
       "      <td>True</td>\n",
       "      <td>False</td>\n",
       "      <td>False</td>\n",
       "      <td>False</td>\n",
       "    </tr>\n",
       "  </tbody>\n",
       "</table>\n",
       "<p>5 rows × 30 columns</p>\n",
       "</div>"
      ],
      "text/plain": [
       "    Age  RoomService  FoodCourt  ShoppingMall     Spa  VRDeck  Decks  \\\n",
       "0  39.0          0.0        0.0           0.0     0.0     0.0      1   \n",
       "1  24.0        109.0        9.0          25.0   549.0    44.0      2   \n",
       "2  58.0         43.0     3576.0           0.0  6715.0    49.0      3   \n",
       "3  33.0          0.0     1283.0         371.0  3329.0   193.0      3   \n",
       "4  16.0        303.0       70.0         151.0   565.0     2.0      4   \n",
       "\n",
       "   HomePlanet_Earth  HomePlanet_Europa  HomePlanet_Mars  ...  VIP_NONE  \\\n",
       "0             False               True            False  ...     False   \n",
       "1              True              False            False  ...     False   \n",
       "2             False               True            False  ...     False   \n",
       "3             False               True            False  ...     False   \n",
       "4              True              False            False  ...     False   \n",
       "\n",
       "   cabin_letters_A  cabin_letters_B  cabin_letters_C  cabin_letters_D  \\\n",
       "0            False             True            False            False   \n",
       "1            False            False            False            False   \n",
       "2             True            False            False            False   \n",
       "3             True            False            False            False   \n",
       "4            False            False            False            False   \n",
       "\n",
       "   cabin_letters_E  cabin_letters_F  cabin_letters_G  cabin_letters_NONE  \\\n",
       "0            False            False            False               False   \n",
       "1            False             True            False               False   \n",
       "2            False            False            False               False   \n",
       "3            False            False            False               False   \n",
       "4            False             True            False               False   \n",
       "\n",
       "   cabin_letters_T  \n",
       "0            False  \n",
       "1            False  \n",
       "2            False  \n",
       "3            False  \n",
       "4            False  \n",
       "\n",
       "[5 rows x 30 columns]"
      ]
     },
     "execution_count": 13,
     "metadata": {},
     "output_type": "execute_result"
    }
   ],
   "source": [
    "x.head()"
   ]
  },
  {
   "cell_type": "code",
   "execution_count": 14,
   "id": "03276e77",
   "metadata": {
    "execution": {
     "iopub.execute_input": "2024-01-09T13:58:47.075710Z",
     "iopub.status.busy": "2024-01-09T13:58:47.075065Z",
     "iopub.status.idle": "2024-01-09T13:58:47.113899Z",
     "shell.execute_reply": "2024-01-09T13:58:47.112456Z"
    },
    "papermill": {
     "duration": 0.053625,
     "end_time": "2024-01-09T13:58:47.116987",
     "exception": false,
     "start_time": "2024-01-09T13:58:47.063362",
     "status": "completed"
    },
    "tags": []
   },
   "outputs": [],
   "source": [
    "from sklearn.preprocessing import StandardScaler\n",
    "\n",
    "ss = StandardScaler()\n",
    "\n",
    "x_scaled = ss.fit_transform(x)\n",
    "test_scaled = ss.transform(test_encoded)"
   ]
  },
  {
   "cell_type": "code",
   "execution_count": 15,
   "id": "53d2bcf0",
   "metadata": {
    "execution": {
     "iopub.execute_input": "2024-01-09T13:58:47.139249Z",
     "iopub.status.busy": "2024-01-09T13:58:47.138760Z",
     "iopub.status.idle": "2024-01-09T13:58:47.143258Z",
     "shell.execute_reply": "2024-01-09T13:58:47.142099Z"
    },
    "papermill": {
     "duration": 0.019125,
     "end_time": "2024-01-09T13:58:47.146040",
     "exception": false,
     "start_time": "2024-01-09T13:58:47.126915",
     "status": "completed"
    },
    "tags": []
   },
   "outputs": [],
   "source": [
    "#X_train, X_test, y_train, y_test = train_test_split(x_scaled, y, test_size=0.2, random_state=4)\n",
    "#first test with simple algos and metrics tailored to algo type before cross-validation (at least typically)"
   ]
  },
  {
   "cell_type": "code",
   "execution_count": 16,
   "id": "3878d0a0",
   "metadata": {
    "execution": {
     "iopub.execute_input": "2024-01-09T13:58:47.168502Z",
     "iopub.status.busy": "2024-01-09T13:58:47.167941Z",
     "iopub.status.idle": "2024-01-09T14:00:03.985296Z",
     "shell.execute_reply": "2024-01-09T14:00:03.983400Z"
    },
    "papermill": {
     "duration": 76.842799,
     "end_time": "2024-01-09T14:00:03.998942",
     "exception": false,
     "start_time": "2024-01-09T13:58:47.156143",
     "status": "completed"
    },
    "tags": []
   },
   "outputs": [
    {
     "name": "stdout",
     "output_type": "stream",
     "text": [
      "0.7730396753289293\n",
      "{'bootstrap': True, 'max_depth': 10, 'min_samples_leaf': 4, 'min_samples_split': 2, 'n_estimators': 30}\n"
     ]
    }
   ],
   "source": [
    "from sklearn.ensemble import RandomForestClassifier\n",
    "from sklearn.model_selection import cross_val_score, GridSearchCV\n",
    "\n",
    "rf1 = RandomForestClassifier(random_state=1)\n",
    "rf_params ={\n",
    "    'bootstrap': [True, False],\n",
    "    'max_depth': [10, None],\n",
    "    'min_samples_leaf': [1, 2, 4],\n",
    "    'min_samples_split': [2, 5, 10],\n",
    "    'n_estimators': [5, 10, 15, 20, 25, 30]}\n",
    "    \n",
    "rf_gs = GridSearchCV(rf1, param_grid = rf_params, cv=5, n_jobs = -1)\n",
    "rf_gs.fit(x_scaled, y)\n",
    "print(rf_gs.best_score_)\n",
    "print(rf_gs.best_params_)"
   ]
  },
  {
   "cell_type": "markdown",
   "id": "cafe4e70",
   "metadata": {
    "papermill": {
     "duration": 0.010193,
     "end_time": "2024-01-09T14:00:04.020591",
     "exception": false,
     "start_time": "2024-01-09T14:00:04.010398",
     "status": "completed"
    },
    "tags": []
   },
   "source": [
    "We then simply set params to best params"
   ]
  },
  {
   "cell_type": "code",
   "execution_count": 17,
   "id": "dfb8ea3d",
   "metadata": {
    "execution": {
     "iopub.execute_input": "2024-01-09T14:00:04.044049Z",
     "iopub.status.busy": "2024-01-09T14:00:04.043583Z",
     "iopub.status.idle": "2024-01-09T14:00:05.340298Z",
     "shell.execute_reply": "2024-01-09T14:00:05.338929Z"
    },
    "papermill": {
     "duration": 1.311821,
     "end_time": "2024-01-09T14:00:05.343289",
     "exception": false,
     "start_time": "2024-01-09T14:00:04.031468",
     "status": "completed"
    },
    "tags": []
   },
   "outputs": [
    {
     "name": "stdout",
     "output_type": "stream",
     "text": [
      "[0.72685451 0.77055779 0.78780909 0.81070196 0.76927503]\n",
      "0.7730396753289293\n"
     ]
    }
   ],
   "source": [
    "rf = RandomForestClassifier(random_state = 1, bootstrap = True, max_depth=10, min_samples_leaf=4, min_samples_split =2, n_estimators = 30)\n",
    "\n",
    "cv = cross_val_score(rf, x_scaled, y, cv=5)\n",
    "print(cv)\n",
    "print(cv.mean())"
   ]
  },
  {
   "cell_type": "code",
   "execution_count": 18,
   "id": "fad26fa2",
   "metadata": {
    "execution": {
     "iopub.execute_input": "2024-01-09T14:00:05.366226Z",
     "iopub.status.busy": "2024-01-09T14:00:05.365766Z",
     "iopub.status.idle": "2024-01-09T14:00:05.684872Z",
     "shell.execute_reply": "2024-01-09T14:00:05.683624Z"
    },
    "papermill": {
     "duration": 0.334282,
     "end_time": "2024-01-09T14:00:05.687938",
     "exception": false,
     "start_time": "2024-01-09T14:00:05.353656",
     "status": "completed"
    },
    "tags": []
   },
   "outputs": [
    {
     "name": "stderr",
     "output_type": "stream",
     "text": [
      "/opt/conda/lib/python3.10/site-packages/sklearn/base.py:432: UserWarning: X has feature names, but RandomForestClassifier was fitted without feature names\n",
      "  warnings.warn(\n"
     ]
    }
   ],
   "source": [
    "rf.fit(x_scaled, y)\n",
    "predictions = rf.predict(test_encoded)"
   ]
  },
  {
   "cell_type": "code",
   "execution_count": 19,
   "id": "f4b822a7",
   "metadata": {
    "execution": {
     "iopub.execute_input": "2024-01-09T14:00:05.711412Z",
     "iopub.status.busy": "2024-01-09T14:00:05.710901Z",
     "iopub.status.idle": "2024-01-09T14:00:05.745120Z",
     "shell.execute_reply": "2024-01-09T14:00:05.743808Z"
    },
    "papermill": {
     "duration": 0.049736,
     "end_time": "2024-01-09T14:00:05.748453",
     "exception": false,
     "start_time": "2024-01-09T14:00:05.698717",
     "status": "completed"
    },
    "tags": []
   },
   "outputs": [],
   "source": [
    "submission = pd.read_csv(\"../input/spaceship-titanic/sample_submission.csv\")\n",
    "submission.tail()\n",
    "submission[\"Transported\"] = predictions\n",
    "submission.to_csv('submission.csv', index= False)\n"
   ]
  }
 ],
 "metadata": {
  "kaggle": {
   "accelerator": "none",
   "dataSources": [
    {
     "databundleVersionId": 3220602,
     "sourceId": 34377,
     "sourceType": "competition"
    }
   ],
   "dockerImageVersionId": 30626,
   "isGpuEnabled": false,
   "isInternetEnabled": true,
   "language": "python",
   "sourceType": "notebook"
  },
  "kernelspec": {
   "display_name": "Python 3",
   "language": "python",
   "name": "python3"
  },
  "language_info": {
   "codemirror_mode": {
    "name": "ipython",
    "version": 3
   },
   "file_extension": ".py",
   "mimetype": "text/x-python",
   "name": "python",
   "nbconvert_exporter": "python",
   "pygments_lexer": "ipython3",
   "version": "3.10.12"
  },
  "papermill": {
   "default_parameters": {},
   "duration": 88.317504,
   "end_time": "2024-01-09T14:00:08.383363",
   "environment_variables": {},
   "exception": null,
   "input_path": "__notebook__.ipynb",
   "output_path": "__notebook__.ipynb",
   "parameters": {},
   "start_time": "2024-01-09T13:58:40.065859",
   "version": "2.4.0"
  }
 },
 "nbformat": 4,
 "nbformat_minor": 5
}
