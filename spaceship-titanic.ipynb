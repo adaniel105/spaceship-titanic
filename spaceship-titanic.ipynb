{
 "cells": [
  {
   "cell_type": "code",
   "execution_count": 1,
   "id": "682cad97",
   "metadata": {
    "_cell_guid": "b1076dfc-b9ad-4769-8c92-a6c4dae69d19",
    "_uuid": "8f2839f25d086af736a60e9eeb907d3b93b6e0e5",
    "execution": {
     "iopub.execute_input": "2024-01-10T00:25:04.071361Z",
     "iopub.status.busy": "2024-01-10T00:25:04.070770Z",
     "iopub.status.idle": "2024-01-10T00:25:06.102784Z",
     "shell.execute_reply": "2024-01-10T00:25:06.101407Z"
    },
    "papermill": {
     "duration": 2.043613,
     "end_time": "2024-01-10T00:25:06.105448",
     "exception": false,
     "start_time": "2024-01-10T00:25:04.061835",
     "status": "completed"
    },
    "tags": []
   },
   "outputs": [],
   "source": [
    "import numpy as np\n",
    "import pandas as pd\n",
    "from sklearn.model_selection import train_test_split\n",
    "import matplotlib.pyplot as plt\n",
    "%matplotlib inline\n",
    "import seaborn as sns"
   ]
  },
  {
   "cell_type": "code",
   "execution_count": 2,
   "id": "3fb7c60e",
   "metadata": {
    "execution": {
     "iopub.execute_input": "2024-01-10T00:25:06.119533Z",
     "iopub.status.busy": "2024-01-10T00:25:06.118976Z",
     "iopub.status.idle": "2024-01-10T00:25:06.216090Z",
     "shell.execute_reply": "2024-01-10T00:25:06.214886Z"
    },
    "papermill": {
     "duration": 0.107114,
     "end_time": "2024-01-10T00:25:06.218746",
     "exception": false,
     "start_time": "2024-01-10T00:25:06.111632",
     "status": "completed"
    },
    "tags": []
   },
   "outputs": [],
   "source": [
    "train = pd.read_csv(\"../input/spaceship-titanic/train.csv\")\n",
    "test = pd.read_csv(\"../input/spaceship-titanic/test.csv\")"
   ]
  },
  {
   "cell_type": "code",
   "execution_count": 3,
   "id": "46909706",
   "metadata": {
    "execution": {
     "iopub.execute_input": "2024-01-10T00:25:06.232417Z",
     "iopub.status.busy": "2024-01-10T00:25:06.232015Z",
     "iopub.status.idle": "2024-01-10T00:25:06.261884Z",
     "shell.execute_reply": "2024-01-10T00:25:06.260810Z"
    },
    "papermill": {
     "duration": 0.039569,
     "end_time": "2024-01-10T00:25:06.264375",
     "exception": false,
     "start_time": "2024-01-10T00:25:06.224806",
     "status": "completed"
    },
    "tags": []
   },
   "outputs": [
    {
     "data": {
      "text/html": [
       "<div>\n",
       "<style scoped>\n",
       "    .dataframe tbody tr th:only-of-type {\n",
       "        vertical-align: middle;\n",
       "    }\n",
       "\n",
       "    .dataframe tbody tr th {\n",
       "        vertical-align: top;\n",
       "    }\n",
       "\n",
       "    .dataframe thead th {\n",
       "        text-align: right;\n",
       "    }\n",
       "</style>\n",
       "<table border=\"1\" class=\"dataframe\">\n",
       "  <thead>\n",
       "    <tr style=\"text-align: right;\">\n",
       "      <th></th>\n",
       "      <th>PassengerId</th>\n",
       "      <th>HomePlanet</th>\n",
       "      <th>CryoSleep</th>\n",
       "      <th>Cabin</th>\n",
       "      <th>Destination</th>\n",
       "      <th>Age</th>\n",
       "      <th>VIP</th>\n",
       "      <th>RoomService</th>\n",
       "      <th>FoodCourt</th>\n",
       "      <th>ShoppingMall</th>\n",
       "      <th>Spa</th>\n",
       "      <th>VRDeck</th>\n",
       "      <th>Name</th>\n",
       "      <th>Transported</th>\n",
       "    </tr>\n",
       "  </thead>\n",
       "  <tbody>\n",
       "    <tr>\n",
       "      <th>0</th>\n",
       "      <td>0001_01</td>\n",
       "      <td>Europa</td>\n",
       "      <td>False</td>\n",
       "      <td>B/0/P</td>\n",
       "      <td>TRAPPIST-1e</td>\n",
       "      <td>39.0</td>\n",
       "      <td>False</td>\n",
       "      <td>0.0</td>\n",
       "      <td>0.0</td>\n",
       "      <td>0.0</td>\n",
       "      <td>0.0</td>\n",
       "      <td>0.0</td>\n",
       "      <td>Maham Ofracculy</td>\n",
       "      <td>False</td>\n",
       "    </tr>\n",
       "    <tr>\n",
       "      <th>1</th>\n",
       "      <td>0002_01</td>\n",
       "      <td>Earth</td>\n",
       "      <td>False</td>\n",
       "      <td>F/0/S</td>\n",
       "      <td>TRAPPIST-1e</td>\n",
       "      <td>24.0</td>\n",
       "      <td>False</td>\n",
       "      <td>109.0</td>\n",
       "      <td>9.0</td>\n",
       "      <td>25.0</td>\n",
       "      <td>549.0</td>\n",
       "      <td>44.0</td>\n",
       "      <td>Juanna Vines</td>\n",
       "      <td>True</td>\n",
       "    </tr>\n",
       "    <tr>\n",
       "      <th>2</th>\n",
       "      <td>0003_01</td>\n",
       "      <td>Europa</td>\n",
       "      <td>False</td>\n",
       "      <td>A/0/S</td>\n",
       "      <td>TRAPPIST-1e</td>\n",
       "      <td>58.0</td>\n",
       "      <td>True</td>\n",
       "      <td>43.0</td>\n",
       "      <td>3576.0</td>\n",
       "      <td>0.0</td>\n",
       "      <td>6715.0</td>\n",
       "      <td>49.0</td>\n",
       "      <td>Altark Susent</td>\n",
       "      <td>False</td>\n",
       "    </tr>\n",
       "    <tr>\n",
       "      <th>3</th>\n",
       "      <td>0003_02</td>\n",
       "      <td>Europa</td>\n",
       "      <td>False</td>\n",
       "      <td>A/0/S</td>\n",
       "      <td>TRAPPIST-1e</td>\n",
       "      <td>33.0</td>\n",
       "      <td>False</td>\n",
       "      <td>0.0</td>\n",
       "      <td>1283.0</td>\n",
       "      <td>371.0</td>\n",
       "      <td>3329.0</td>\n",
       "      <td>193.0</td>\n",
       "      <td>Solam Susent</td>\n",
       "      <td>False</td>\n",
       "    </tr>\n",
       "    <tr>\n",
       "      <th>4</th>\n",
       "      <td>0004_01</td>\n",
       "      <td>Earth</td>\n",
       "      <td>False</td>\n",
       "      <td>F/1/S</td>\n",
       "      <td>TRAPPIST-1e</td>\n",
       "      <td>16.0</td>\n",
       "      <td>False</td>\n",
       "      <td>303.0</td>\n",
       "      <td>70.0</td>\n",
       "      <td>151.0</td>\n",
       "      <td>565.0</td>\n",
       "      <td>2.0</td>\n",
       "      <td>Willy Santantines</td>\n",
       "      <td>True</td>\n",
       "    </tr>\n",
       "  </tbody>\n",
       "</table>\n",
       "</div>"
      ],
      "text/plain": [
       "  PassengerId HomePlanet CryoSleep  Cabin  Destination   Age    VIP  \\\n",
       "0     0001_01     Europa     False  B/0/P  TRAPPIST-1e  39.0  False   \n",
       "1     0002_01      Earth     False  F/0/S  TRAPPIST-1e  24.0  False   \n",
       "2     0003_01     Europa     False  A/0/S  TRAPPIST-1e  58.0   True   \n",
       "3     0003_02     Europa     False  A/0/S  TRAPPIST-1e  33.0  False   \n",
       "4     0004_01      Earth     False  F/1/S  TRAPPIST-1e  16.0  False   \n",
       "\n",
       "   RoomService  FoodCourt  ShoppingMall     Spa  VRDeck               Name  \\\n",
       "0          0.0        0.0           0.0     0.0     0.0    Maham Ofracculy   \n",
       "1        109.0        9.0          25.0   549.0    44.0       Juanna Vines   \n",
       "2         43.0     3576.0           0.0  6715.0    49.0      Altark Susent   \n",
       "3          0.0     1283.0         371.0  3329.0   193.0       Solam Susent   \n",
       "4        303.0       70.0         151.0   565.0     2.0  Willy Santantines   \n",
       "\n",
       "   Transported  \n",
       "0        False  \n",
       "1         True  \n",
       "2        False  \n",
       "3        False  \n",
       "4         True  "
      ]
     },
     "execution_count": 3,
     "metadata": {},
     "output_type": "execute_result"
    }
   ],
   "source": [
    "#train.info()\n",
    "#train.columns\n",
    "train.head()"
   ]
  },
  {
   "cell_type": "code",
   "execution_count": 4,
   "id": "52ce5daf",
   "metadata": {
    "execution": {
     "iopub.execute_input": "2024-01-10T00:25:06.278754Z",
     "iopub.status.busy": "2024-01-10T00:25:06.278360Z",
     "iopub.status.idle": "2024-01-10T00:25:06.291699Z",
     "shell.execute_reply": "2024-01-10T00:25:06.290666Z"
    },
    "papermill": {
     "duration": 0.02305,
     "end_time": "2024-01-10T00:25:06.293887",
     "exception": false,
     "start_time": "2024-01-10T00:25:06.270837",
     "status": "completed"
    },
    "tags": []
   },
   "outputs": [
    {
     "data": {
      "text/plain": [
       "PassengerId       0\n",
       "HomePlanet      201\n",
       "CryoSleep       217\n",
       "Cabin           199\n",
       "Destination     182\n",
       "Age             179\n",
       "VIP             203\n",
       "RoomService     181\n",
       "FoodCourt       183\n",
       "ShoppingMall    208\n",
       "Spa             183\n",
       "VRDeck          188\n",
       "Name            200\n",
       "Transported       0\n",
       "dtype: int64"
      ]
     },
     "execution_count": 4,
     "metadata": {},
     "output_type": "execute_result"
    }
   ],
   "source": [
    "train.isna().sum()"
   ]
  },
  {
   "cell_type": "markdown",
   "id": "4bcafc76",
   "metadata": {
    "papermill": {
     "duration": 0.006004,
     "end_time": "2024-01-10T00:25:06.306231",
     "exception": false,
     "start_time": "2024-01-10T00:25:06.300227",
     "status": "completed"
    },
    "tags": []
   },
   "source": [
    "Take care of missing values first by filling in with mean,median or mode (seems like you can't do anything before you impute basically). or just fill with NONE (cats only tho)"
   ]
  },
  {
   "cell_type": "code",
   "execution_count": 5,
   "id": "276f5c13",
   "metadata": {
    "execution": {
     "iopub.execute_input": "2024-01-10T00:25:06.320310Z",
     "iopub.status.busy": "2024-01-10T00:25:06.319614Z",
     "iopub.status.idle": "2024-01-10T00:25:06.331388Z",
     "shell.execute_reply": "2024-01-10T00:25:06.330378Z"
    },
    "papermill": {
     "duration": 0.021314,
     "end_time": "2024-01-10T00:25:06.333635",
     "exception": false,
     "start_time": "2024-01-10T00:25:06.312321",
     "status": "completed"
    },
    "tags": []
   },
   "outputs": [],
   "source": [
    "y = train[\"Transported\"]\n",
    "train.drop(\"Transported\", axis=1, inplace=True)"
   ]
  },
  {
   "cell_type": "code",
   "execution_count": 6,
   "id": "86abd164",
   "metadata": {
    "execution": {
     "iopub.execute_input": "2024-01-10T00:25:06.347924Z",
     "iopub.status.busy": "2024-01-10T00:25:06.347572Z",
     "iopub.status.idle": "2024-01-10T00:25:06.352084Z",
     "shell.execute_reply": "2024-01-10T00:25:06.350971Z"
    },
    "papermill": {
     "duration": 0.013915,
     "end_time": "2024-01-10T00:25:06.354076",
     "exception": false,
     "start_time": "2024-01-10T00:25:06.340161",
     "status": "completed"
    },
    "tags": []
   },
   "outputs": [],
   "source": [
    "num = ['Age', 'RoomService', 'FoodCourt', 'ShoppingMall', 'Spa','VRDeck', 'Decks'] #you can also use list comprehensions for these btw\n",
    "cat = ['HomePlanet', 'CryoSleep', 'Cabin', 'Destination', 'VIP', 'Surname']"
   ]
  },
  {
   "cell_type": "code",
   "execution_count": 7,
   "id": "5cf1d5f1",
   "metadata": {
    "execution": {
     "iopub.execute_input": "2024-01-10T00:25:06.368375Z",
     "iopub.status.busy": "2024-01-10T00:25:06.367702Z",
     "iopub.status.idle": "2024-01-10T00:25:06.374513Z",
     "shell.execute_reply": "2024-01-10T00:25:06.373527Z"
    },
    "papermill": {
     "duration": 0.016967,
     "end_time": "2024-01-10T00:25:06.377151",
     "exception": false,
     "start_time": "2024-01-10T00:25:06.360184",
     "status": "completed"
    },
    "tags": []
   },
   "outputs": [
    {
     "data": {
      "text/plain": [
       "Index(['PassengerId', 'HomePlanet', 'CryoSleep', 'Cabin', 'Destination', 'Age',\n",
       "       'VIP', 'RoomService', 'FoodCourt', 'ShoppingMall', 'Spa', 'VRDeck',\n",
       "       'Name'],\n",
       "      dtype='object')"
      ]
     },
     "execution_count": 7,
     "metadata": {},
     "output_type": "execute_result"
    }
   ],
   "source": [
    "train.columns"
   ]
  },
  {
   "cell_type": "markdown",
   "id": "f9c0a7c7",
   "metadata": {
    "papermill": {
     "duration": 0.006058,
     "end_time": "2024-01-10T00:25:06.389548",
     "exception": false,
     "start_time": "2024-01-10T00:25:06.383490",
     "status": "completed"
    },
    "tags": []
   },
   "source": [
    "Handle NaN values"
   ]
  },
  {
   "cell_type": "code",
   "execution_count": 8,
   "id": "daf5cc86",
   "metadata": {
    "execution": {
     "iopub.execute_input": "2024-01-10T00:25:06.404225Z",
     "iopub.status.busy": "2024-01-10T00:25:06.403155Z",
     "iopub.status.idle": "2024-01-10T00:25:06.450563Z",
     "shell.execute_reply": "2024-01-10T00:25:06.449387Z"
    },
    "papermill": {
     "duration": 0.057135,
     "end_time": "2024-01-10T00:25:06.452961",
     "exception": false,
     "start_time": "2024-01-10T00:25:06.395826",
     "status": "completed"
    },
    "tags": []
   },
   "outputs": [],
   "source": [
    "for col in train.columns: #columns are practically the same anyway so we iterate over them\n",
    "    train[col].fillna(train[col].mode()[0], inplace=True)\n",
    "    test[col].fillna(test[col].mode()[0], inplace=True)"
   ]
  },
  {
   "cell_type": "markdown",
   "id": "950556bf",
   "metadata": {
    "papermill": {
     "duration": 0.00602,
     "end_time": "2024-01-10T00:25:06.465426",
     "exception": false,
     "start_time": "2024-01-10T00:25:06.459406",
     "status": "completed"
    },
    "tags": []
   },
   "source": [
    "Now we check for missing values once more"
   ]
  },
  {
   "cell_type": "code",
   "execution_count": 9,
   "id": "1ba668c2",
   "metadata": {
    "execution": {
     "iopub.execute_input": "2024-01-10T00:25:06.479813Z",
     "iopub.status.busy": "2024-01-10T00:25:06.479428Z",
     "iopub.status.idle": "2024-01-10T00:25:06.490518Z",
     "shell.execute_reply": "2024-01-10T00:25:06.489582Z"
    },
    "papermill": {
     "duration": 0.020769,
     "end_time": "2024-01-10T00:25:06.492712",
     "exception": false,
     "start_time": "2024-01-10T00:25:06.471943",
     "status": "completed"
    },
    "tags": []
   },
   "outputs": [
    {
     "data": {
      "text/plain": [
       "PassengerId     0\n",
       "HomePlanet      0\n",
       "CryoSleep       0\n",
       "Cabin           0\n",
       "Destination     0\n",
       "Age             0\n",
       "VIP             0\n",
       "RoomService     0\n",
       "FoodCourt       0\n",
       "ShoppingMall    0\n",
       "Spa             0\n",
       "VRDeck          0\n",
       "Name            0\n",
       "dtype: int64"
      ]
     },
     "execution_count": 9,
     "metadata": {},
     "output_type": "execute_result"
    }
   ],
   "source": [
    "train.isna().sum()"
   ]
  },
  {
   "cell_type": "markdown",
   "id": "b7d310d0",
   "metadata": {
    "papermill": {
     "duration": 0.006451,
     "end_time": "2024-01-10T00:25:06.505761",
     "exception": false,
     "start_time": "2024-01-10T00:25:06.499310",
     "status": "completed"
    },
    "tags": []
   },
   "source": [
    "do some feature engineering"
   ]
  },
  {
   "cell_type": "code",
   "execution_count": 10,
   "id": "21676364",
   "metadata": {
    "execution": {
     "iopub.execute_input": "2024-01-10T00:25:06.520301Z",
     "iopub.status.busy": "2024-01-10T00:25:06.519568Z",
     "iopub.status.idle": "2024-01-10T00:25:06.544438Z",
     "shell.execute_reply": "2024-01-10T00:25:06.543352Z"
    },
    "papermill": {
     "duration": 0.034701,
     "end_time": "2024-01-10T00:25:06.546928",
     "exception": false,
     "start_time": "2024-01-10T00:25:06.512227",
     "status": "completed"
    },
    "tags": []
   },
   "outputs": [],
   "source": [
    "#train[\"Surname\"] = train.Name.apply(lambda x: x.split()[-1])\n",
    "train[\"Decks\"] = train.PassengerId.apply(lambda x: x[:4]).astype('int64')\n",
    "train[\"cabin_letters\"] = train.Cabin.apply(lambda x: x.split(\"/\")[0])\n",
    "train.drop([\"Name\", \"Cabin\"], axis=1, inplace=True)\n",
    "\n",
    "#test[\"Surname\"] = test.Name.apply(lambda x: x.split()[-1])\n",
    "test[\"Decks\"] = test.PassengerId.apply(lambda x: x[:4]).astype('int64')\n",
    "test[\"cabin_letters\"] = test.Cabin.apply(lambda x: x.split(\"/\")[0])\n",
    "test.drop([\"Name\",\"Cabin\"], axis=1, inplace=True)"
   ]
  },
  {
   "cell_type": "markdown",
   "id": "e5a40b23",
   "metadata": {
    "papermill": {
     "duration": 0.00624,
     "end_time": "2024-01-10T00:25:06.560238",
     "exception": false,
     "start_time": "2024-01-10T00:25:06.553998",
     "status": "completed"
    },
    "tags": []
   },
   "source": [
    "Seperate data into numberic and categroical columns for data understanding"
   ]
  },
  {
   "cell_type": "code",
   "execution_count": 11,
   "id": "85e1ea71",
   "metadata": {
    "execution": {
     "iopub.execute_input": "2024-01-10T00:25:06.574526Z",
     "iopub.status.busy": "2024-01-10T00:25:06.574140Z",
     "iopub.status.idle": "2024-01-10T00:25:06.577981Z",
     "shell.execute_reply": "2024-01-10T00:25:06.577036Z"
    },
    "papermill": {
     "duration": 0.013503,
     "end_time": "2024-01-10T00:25:06.580099",
     "exception": false,
     "start_time": "2024-01-10T00:25:06.566596",
     "status": "completed"
    },
    "tags": []
   },
   "outputs": [],
   "source": [
    "#num = []\n",
    "#cat = []"
   ]
  },
  {
   "cell_type": "markdown",
   "id": "cc276841",
   "metadata": {
    "papermill": {
     "duration": 0.005987,
     "end_time": "2024-01-10T00:25:06.593277",
     "exception": false,
     "start_time": "2024-01-10T00:25:06.587290",
     "status": "completed"
    },
    "tags": []
   },
   "source": [
    "Normalization and scaling"
   ]
  },
  {
   "cell_type": "code",
   "execution_count": 12,
   "id": "78fd0509",
   "metadata": {
    "execution": {
     "iopub.execute_input": "2024-01-10T00:25:06.607952Z",
     "iopub.status.busy": "2024-01-10T00:25:06.607229Z",
     "iopub.status.idle": "2024-01-10T00:25:06.629798Z",
     "shell.execute_reply": "2024-01-10T00:25:06.629031Z"
    },
    "papermill": {
     "duration": 0.032508,
     "end_time": "2024-01-10T00:25:06.632113",
     "exception": false,
     "start_time": "2024-01-10T00:25:06.599605",
     "status": "completed"
    },
    "tags": []
   },
   "outputs": [],
   "source": [
    "features = ['HomePlanet', 'CryoSleep', 'Destination', 'Age', 'VIP',\n",
    "       'RoomService', 'FoodCourt', 'ShoppingMall', 'Spa', 'VRDeck',\n",
    "       'Decks', 'cabin_letters']\n",
    "x = pd.get_dummies(train[features])\n",
    "test_encoded = pd.get_dummies(test[features])"
   ]
  },
  {
   "cell_type": "code",
   "execution_count": 13,
   "id": "c01cc1ea",
   "metadata": {
    "execution": {
     "iopub.execute_input": "2024-01-10T00:25:06.646789Z",
     "iopub.status.busy": "2024-01-10T00:25:06.646096Z",
     "iopub.status.idle": "2024-01-10T00:25:06.671212Z",
     "shell.execute_reply": "2024-01-10T00:25:06.670148Z"
    },
    "papermill": {
     "duration": 0.035033,
     "end_time": "2024-01-10T00:25:06.673542",
     "exception": false,
     "start_time": "2024-01-10T00:25:06.638509",
     "status": "completed"
    },
    "tags": []
   },
   "outputs": [
    {
     "data": {
      "text/html": [
       "<div>\n",
       "<style scoped>\n",
       "    .dataframe tbody tr th:only-of-type {\n",
       "        vertical-align: middle;\n",
       "    }\n",
       "\n",
       "    .dataframe tbody tr th {\n",
       "        vertical-align: top;\n",
       "    }\n",
       "\n",
       "    .dataframe thead th {\n",
       "        text-align: right;\n",
       "    }\n",
       "</style>\n",
       "<table border=\"1\" class=\"dataframe\">\n",
       "  <thead>\n",
       "    <tr style=\"text-align: right;\">\n",
       "      <th></th>\n",
       "      <th>CryoSleep</th>\n",
       "      <th>Age</th>\n",
       "      <th>VIP</th>\n",
       "      <th>RoomService</th>\n",
       "      <th>FoodCourt</th>\n",
       "      <th>ShoppingMall</th>\n",
       "      <th>Spa</th>\n",
       "      <th>VRDeck</th>\n",
       "      <th>Decks</th>\n",
       "      <th>HomePlanet_Earth</th>\n",
       "      <th>...</th>\n",
       "      <th>Destination_PSO J318.5-22</th>\n",
       "      <th>Destination_TRAPPIST-1e</th>\n",
       "      <th>cabin_letters_A</th>\n",
       "      <th>cabin_letters_B</th>\n",
       "      <th>cabin_letters_C</th>\n",
       "      <th>cabin_letters_D</th>\n",
       "      <th>cabin_letters_E</th>\n",
       "      <th>cabin_letters_F</th>\n",
       "      <th>cabin_letters_G</th>\n",
       "      <th>cabin_letters_T</th>\n",
       "    </tr>\n",
       "  </thead>\n",
       "  <tbody>\n",
       "    <tr>\n",
       "      <th>0</th>\n",
       "      <td>False</td>\n",
       "      <td>39.0</td>\n",
       "      <td>False</td>\n",
       "      <td>0.0</td>\n",
       "      <td>0.0</td>\n",
       "      <td>0.0</td>\n",
       "      <td>0.0</td>\n",
       "      <td>0.0</td>\n",
       "      <td>1</td>\n",
       "      <td>False</td>\n",
       "      <td>...</td>\n",
       "      <td>False</td>\n",
       "      <td>True</td>\n",
       "      <td>False</td>\n",
       "      <td>True</td>\n",
       "      <td>False</td>\n",
       "      <td>False</td>\n",
       "      <td>False</td>\n",
       "      <td>False</td>\n",
       "      <td>False</td>\n",
       "      <td>False</td>\n",
       "    </tr>\n",
       "    <tr>\n",
       "      <th>1</th>\n",
       "      <td>False</td>\n",
       "      <td>24.0</td>\n",
       "      <td>False</td>\n",
       "      <td>109.0</td>\n",
       "      <td>9.0</td>\n",
       "      <td>25.0</td>\n",
       "      <td>549.0</td>\n",
       "      <td>44.0</td>\n",
       "      <td>2</td>\n",
       "      <td>True</td>\n",
       "      <td>...</td>\n",
       "      <td>False</td>\n",
       "      <td>True</td>\n",
       "      <td>False</td>\n",
       "      <td>False</td>\n",
       "      <td>False</td>\n",
       "      <td>False</td>\n",
       "      <td>False</td>\n",
       "      <td>True</td>\n",
       "      <td>False</td>\n",
       "      <td>False</td>\n",
       "    </tr>\n",
       "    <tr>\n",
       "      <th>2</th>\n",
       "      <td>False</td>\n",
       "      <td>58.0</td>\n",
       "      <td>True</td>\n",
       "      <td>43.0</td>\n",
       "      <td>3576.0</td>\n",
       "      <td>0.0</td>\n",
       "      <td>6715.0</td>\n",
       "      <td>49.0</td>\n",
       "      <td>3</td>\n",
       "      <td>False</td>\n",
       "      <td>...</td>\n",
       "      <td>False</td>\n",
       "      <td>True</td>\n",
       "      <td>True</td>\n",
       "      <td>False</td>\n",
       "      <td>False</td>\n",
       "      <td>False</td>\n",
       "      <td>False</td>\n",
       "      <td>False</td>\n",
       "      <td>False</td>\n",
       "      <td>False</td>\n",
       "    </tr>\n",
       "    <tr>\n",
       "      <th>3</th>\n",
       "      <td>False</td>\n",
       "      <td>33.0</td>\n",
       "      <td>False</td>\n",
       "      <td>0.0</td>\n",
       "      <td>1283.0</td>\n",
       "      <td>371.0</td>\n",
       "      <td>3329.0</td>\n",
       "      <td>193.0</td>\n",
       "      <td>3</td>\n",
       "      <td>False</td>\n",
       "      <td>...</td>\n",
       "      <td>False</td>\n",
       "      <td>True</td>\n",
       "      <td>True</td>\n",
       "      <td>False</td>\n",
       "      <td>False</td>\n",
       "      <td>False</td>\n",
       "      <td>False</td>\n",
       "      <td>False</td>\n",
       "      <td>False</td>\n",
       "      <td>False</td>\n",
       "    </tr>\n",
       "    <tr>\n",
       "      <th>4</th>\n",
       "      <td>False</td>\n",
       "      <td>16.0</td>\n",
       "      <td>False</td>\n",
       "      <td>303.0</td>\n",
       "      <td>70.0</td>\n",
       "      <td>151.0</td>\n",
       "      <td>565.0</td>\n",
       "      <td>2.0</td>\n",
       "      <td>4</td>\n",
       "      <td>True</td>\n",
       "      <td>...</td>\n",
       "      <td>False</td>\n",
       "      <td>True</td>\n",
       "      <td>False</td>\n",
       "      <td>False</td>\n",
       "      <td>False</td>\n",
       "      <td>False</td>\n",
       "      <td>False</td>\n",
       "      <td>True</td>\n",
       "      <td>False</td>\n",
       "      <td>False</td>\n",
       "    </tr>\n",
       "  </tbody>\n",
       "</table>\n",
       "<p>5 rows × 23 columns</p>\n",
       "</div>"
      ],
      "text/plain": [
       "   CryoSleep   Age    VIP  RoomService  FoodCourt  ShoppingMall     Spa  \\\n",
       "0      False  39.0  False          0.0        0.0           0.0     0.0   \n",
       "1      False  24.0  False        109.0        9.0          25.0   549.0   \n",
       "2      False  58.0   True         43.0     3576.0           0.0  6715.0   \n",
       "3      False  33.0  False          0.0     1283.0         371.0  3329.0   \n",
       "4      False  16.0  False        303.0       70.0         151.0   565.0   \n",
       "\n",
       "   VRDeck  Decks  HomePlanet_Earth  ...  Destination_PSO J318.5-22  \\\n",
       "0     0.0      1             False  ...                      False   \n",
       "1    44.0      2              True  ...                      False   \n",
       "2    49.0      3             False  ...                      False   \n",
       "3   193.0      3             False  ...                      False   \n",
       "4     2.0      4              True  ...                      False   \n",
       "\n",
       "   Destination_TRAPPIST-1e  cabin_letters_A  cabin_letters_B  cabin_letters_C  \\\n",
       "0                     True            False             True            False   \n",
       "1                     True            False            False            False   \n",
       "2                     True             True            False            False   \n",
       "3                     True             True            False            False   \n",
       "4                     True            False            False            False   \n",
       "\n",
       "   cabin_letters_D  cabin_letters_E  cabin_letters_F  cabin_letters_G  \\\n",
       "0            False            False            False            False   \n",
       "1            False            False             True            False   \n",
       "2            False            False            False            False   \n",
       "3            False            False            False            False   \n",
       "4            False            False             True            False   \n",
       "\n",
       "   cabin_letters_T  \n",
       "0            False  \n",
       "1            False  \n",
       "2            False  \n",
       "3            False  \n",
       "4            False  \n",
       "\n",
       "[5 rows x 23 columns]"
      ]
     },
     "execution_count": 13,
     "metadata": {},
     "output_type": "execute_result"
    }
   ],
   "source": [
    "x.head()"
   ]
  },
  {
   "cell_type": "code",
   "execution_count": 14,
   "id": "8a64c945",
   "metadata": {
    "execution": {
     "iopub.execute_input": "2024-01-10T00:25:06.689099Z",
     "iopub.status.busy": "2024-01-10T00:25:06.687977Z",
     "iopub.status.idle": "2024-01-10T00:25:06.714555Z",
     "shell.execute_reply": "2024-01-10T00:25:06.713165Z"
    },
    "papermill": {
     "duration": 0.036652,
     "end_time": "2024-01-10T00:25:06.716977",
     "exception": false,
     "start_time": "2024-01-10T00:25:06.680325",
     "status": "completed"
    },
    "tags": []
   },
   "outputs": [],
   "source": [
    "from sklearn.preprocessing import StandardScaler\n",
    "\n",
    "ss = StandardScaler()\n",
    "\n",
    "x_scaled = ss.fit_transform(x)\n",
    "test_scaled = ss.transform(test_encoded)"
   ]
  },
  {
   "cell_type": "code",
   "execution_count": 15,
   "id": "5f326786",
   "metadata": {
    "execution": {
     "iopub.execute_input": "2024-01-10T00:25:06.732972Z",
     "iopub.status.busy": "2024-01-10T00:25:06.731920Z",
     "iopub.status.idle": "2024-01-10T00:25:06.735900Z",
     "shell.execute_reply": "2024-01-10T00:25:06.735219Z"
    },
    "papermill": {
     "duration": 0.013954,
     "end_time": "2024-01-10T00:25:06.737685",
     "exception": false,
     "start_time": "2024-01-10T00:25:06.723731",
     "status": "completed"
    },
    "tags": []
   },
   "outputs": [],
   "source": [
    "#X_train, X_test, y_train, y_test = train_test_split(x_scaled, y, test_size=0.2, random_state=4)\n",
    "#first test with simple algos and metrics tailored to algo type before cross-validation (at least typically)"
   ]
  },
  {
   "cell_type": "code",
   "execution_count": 16,
   "id": "f47c0674",
   "metadata": {
    "execution": {
     "iopub.execute_input": "2024-01-10T00:25:06.753587Z",
     "iopub.status.busy": "2024-01-10T00:25:06.752889Z",
     "iopub.status.idle": "2024-01-10T00:26:18.456234Z",
     "shell.execute_reply": "2024-01-10T00:26:18.454766Z"
    },
    "papermill": {
     "duration": 71.720988,
     "end_time": "2024-01-10T00:26:18.465859",
     "exception": false,
     "start_time": "2024-01-10T00:25:06.744871",
     "status": "completed"
    },
    "tags": []
   },
   "outputs": [
    {
     "name": "stdout",
     "output_type": "stream",
     "text": [
      "0.7805164271094785\n",
      "{'bootstrap': True, 'max_depth': 10, 'min_samples_leaf': 4, 'min_samples_split': 10, 'n_estimators': 30}\n"
     ]
    }
   ],
   "source": [
    "from sklearn.ensemble import RandomForestClassifier\n",
    "from sklearn.model_selection import cross_val_score, GridSearchCV\n",
    "\n",
    "rf1 = RandomForestClassifier(random_state=1)\n",
    "rf_params ={\n",
    "    'bootstrap': [True, False],\n",
    "    'max_depth': [10, None],\n",
    "    'min_samples_leaf': [1, 2, 4],\n",
    "    'min_samples_split': [2, 5, 10],\n",
    "    'n_estimators': [5, 10, 15, 20, 25, 30]}\n",
    "    \n",
    "rf_gs = GridSearchCV(rf1, param_grid = rf_params, cv=5, n_jobs = -1)\n",
    "rf_gs.fit(x_scaled, y)\n",
    "print(rf_gs.best_score_)\n",
    "print(rf_gs.best_params_)"
   ]
  },
  {
   "cell_type": "markdown",
   "id": "68dd3427",
   "metadata": {
    "papermill": {
     "duration": 0.006716,
     "end_time": "2024-01-10T00:26:18.479955",
     "exception": false,
     "start_time": "2024-01-10T00:26:18.473239",
     "status": "completed"
    },
    "tags": []
   },
   "source": [
    "We then simply set params to best params"
   ]
  },
  {
   "cell_type": "code",
   "execution_count": 17,
   "id": "8d5bb03f",
   "metadata": {
    "execution": {
     "iopub.execute_input": "2024-01-10T00:26:18.496091Z",
     "iopub.status.busy": "2024-01-10T00:26:18.495673Z",
     "iopub.status.idle": "2024-01-10T00:26:19.666698Z",
     "shell.execute_reply": "2024-01-10T00:26:19.665528Z"
    },
    "papermill": {
     "duration": 1.182127,
     "end_time": "2024-01-10T00:26:19.669086",
     "exception": false,
     "start_time": "2024-01-10T00:26:18.486959",
     "status": "completed"
    },
    "tags": []
   },
   "outputs": [
    {
     "name": "stdout",
     "output_type": "stream",
     "text": [
      "[0.72570443 0.75158137 0.79240943 0.81588032 0.76524741]\n",
      "0.7701645920337005\n"
     ]
    }
   ],
   "source": [
    "rf = RandomForestClassifier(random_state = 1, bootstrap = True, max_depth=10, min_samples_leaf=4, min_samples_split =2, n_estimators = 30)\n",
    "\n",
    "cv = cross_val_score(rf, x_scaled, y, cv=5)\n",
    "print(cv)\n",
    "print(cv.mean())"
   ]
  },
  {
   "cell_type": "code",
   "execution_count": 18,
   "id": "7d88c3be",
   "metadata": {
    "execution": {
     "iopub.execute_input": "2024-01-10T00:26:19.684674Z",
     "iopub.status.busy": "2024-01-10T00:26:19.684270Z",
     "iopub.status.idle": "2024-01-10T00:26:19.994771Z",
     "shell.execute_reply": "2024-01-10T00:26:19.992683Z"
    },
    "papermill": {
     "duration": 0.321301,
     "end_time": "2024-01-10T00:26:19.997396",
     "exception": false,
     "start_time": "2024-01-10T00:26:19.676095",
     "status": "completed"
    },
    "tags": []
   },
   "outputs": [
    {
     "name": "stderr",
     "output_type": "stream",
     "text": [
      "/opt/conda/lib/python3.10/site-packages/sklearn/base.py:432: UserWarning: X has feature names, but RandomForestClassifier was fitted without feature names\n",
      "  warnings.warn(\n"
     ]
    }
   ],
   "source": [
    "rf.fit(x_scaled, y)\n",
    "predictions = rf.predict(test_encoded)"
   ]
  },
  {
   "cell_type": "code",
   "execution_count": 19,
   "id": "a056108f",
   "metadata": {
    "execution": {
     "iopub.execute_input": "2024-01-10T00:26:20.014495Z",
     "iopub.status.busy": "2024-01-10T00:26:20.014037Z",
     "iopub.status.idle": "2024-01-10T00:26:20.040505Z",
     "shell.execute_reply": "2024-01-10T00:26:20.039151Z"
    },
    "papermill": {
     "duration": 0.03867,
     "end_time": "2024-01-10T00:26:20.043241",
     "exception": false,
     "start_time": "2024-01-10T00:26:20.004571",
     "status": "completed"
    },
    "tags": []
   },
   "outputs": [],
   "source": [
    "submission = pd.read_csv(\"../input/spaceship-titanic/sample_submission.csv\")\n",
    "submission[\"Transported\"] = predictions\n",
    "submission.to_csv('submission2.csv', index= False)\n"
   ]
  }
 ],
 "metadata": {
  "kaggle": {
   "accelerator": "none",
   "dataSources": [
    {
     "databundleVersionId": 3220602,
     "sourceId": 34377,
     "sourceType": "competition"
    }
   ],
   "dockerImageVersionId": 30626,
   "isGpuEnabled": false,
   "isInternetEnabled": true,
   "language": "python",
   "sourceType": "notebook"
  },
  "kernelspec": {
   "display_name": "Python 3",
   "language": "python",
   "name": "python3"
  },
  "language_info": {
   "codemirror_mode": {
    "name": "ipython",
    "version": 3
   },
   "file_extension": ".py",
   "mimetype": "text/x-python",
   "name": "python",
   "nbconvert_exporter": "python",
   "pygments_lexer": "ipython3",
   "version": "3.10.12"
  },
  "papermill": {
   "default_parameters": {},
   "duration": 81.776897,
   "end_time": "2024-01-10T00:26:22.672092",
   "environment_variables": {},
   "exception": null,
   "input_path": "__notebook__.ipynb",
   "output_path": "__notebook__.ipynb",
   "parameters": {},
   "start_time": "2024-01-10T00:25:00.895195",
   "version": "2.4.0"
  }
 },
 "nbformat": 4,
 "nbformat_minor": 5
}
